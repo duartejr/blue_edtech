{
  "nbformat": 4,
  "nbformat_minor": 0,
  "metadata": {
    "colab": {
      "name": "modulo01_projeto02_implementar_classificar_arvore_decisao.ipynb",
      "provenance": [],
      "authorship_tag": "ABX9TyM78ECooJ0Fzg8dsnOuhYf+",
      "include_colab_link": true
    },
    "kernelspec": {
      "name": "python3",
      "display_name": "Python 3"
    },
    "language_info": {
      "name": "python"
    }
  },
  "cells": [
    {
      "cell_type": "markdown",
      "metadata": {
        "id": "view-in-github",
        "colab_type": "text"
      },
      "source": [
        "<a href=\"https://colab.research.google.com/github/duartejr/data_science_blue/blob/master/modulo01_projeto02_implementar_classificar_arvore_decisao.ipynb\" target=\"_parent\"><img src=\"https://colab.research.google.com/assets/colab-badge.svg\" alt=\"Open In Colab\"/></a>"
      ]
    },
    {
      "cell_type": "markdown",
      "source": [
        "<p align=\"center\">\n",
        "<img src=\"https://blueedtech.com.br/wp-content/themes/blue/dist/images/logo-blue-croped.gif)\" alt=\"drawing\" width=\"200\"/>\n",
        "</p>\n",
        "<p align=\"center\"> <strong>TRILHA DE DADOS</strong></p>\n",
        "<p align=\"center\"> <strong>MÓDULO 01 - TRABALHO 02</strong></p>\n",
        "<p align=\"center\"> <strong>FUNDAMENTOS DA CIÊNCIA DE DADOS</strong></p>\n",
        "<p align=\"center\"> <strong>TURMA:</strong>C14-M01-FDS</p>\n",
        "<p align=\"center\"> <strong>ALUNO:</strong>Antonio Duarte Marcos Junior</p>\n",
        "\n",
        "# **Trabalho 02:** Implementar e classificar modelo de ávore de decisão.\n",
        "\n",
        "## Objetivos\n",
        "<p align=\"justify\">&nbsp;&nbsp;&nbsp;&nbsp;Fixar os conceitos de programação em Python vistos em aula, como elementos condicionais, funções, pandas e dataframe. Além disso, o projeto envolve uma aplicação de Ciência de Dados, ou seja, os conceitos vistos serão utilizados para trabalhar de uma forma direcionada para os próximos passos no curso.</p>\n",
        "\n",
        "## Contexto\n",
        "<p align=\"justify\">&nbsp;&nbsp;&nbsp;&nbsp;Imagine que você tenha uma empresa que vende flores de íris. Dessa forma, em algum momento as flores são colhidas e separadas para a venda. Porém, existem três espécies: Setosa, Versicolor e Virginica.</p>\n",
        "<p align=\"justify\">&nbsp;&nbsp;&nbsp;&nbsp;Dado este contexto, surge a necessidade de identificar cada uma destas espécies para vendê-las de modo separado. Para isso, será utilizada uma máquina que captura as medidas das sépalas e pétalas das flores. A partir destas medidas, um modelo já treinado, por meio de dados históricos, irá classificar o tipo da espécie para a máquina separar corretamente.</p>\n",
        "<p align=\"justify\">&nbsp;&nbsp;&nbsp;&nbsp;A técnica de machine learning utilizada para treinar o modelo de predição foi o modelo de Árvore de Decisão. Este modelo cria uma espécie de fluxograma para classificar as flores, por meio de suas medidas. No final do processo de desenvolvimento, dois modelos foram considerados para entrar em produção, os mesmos se diferem na altura da árvore de decisão criada. Para definir qual modelo será utilizado, novas flores serão separadas por meio dos dois modelos, e o modelo que tiver uma melhor performance será escolhido.</p>\n",
        "\n",
        "##Tarefas\n",
        "&nbsp;&nbsp;&nbsp;&nbsp;Dado o contexto da seção anterior, suas tarefas neste projeto são:\n",
        "\n",
        "<div align=\"justify\">\n",
        "<ul>\n",
        "  <li>Utilizar a árvore de decisão de cada modelo para classificar novas flores.</li>\n",
        "  <li>Criar uma função de classificação para cada modelo, a partir de suas respectivas árvores de decisão. As árvores de decisão são especificadas na Seção Modelos.</li>\n",
        "  <li>Classificar todas as novas flores, por meio destas funções. Os dados das novas flores são especificados na seção Dados.\n",
        "Definir o melhor modelo</li>\n",
        "  <li>Definir um modo de medir a performance de cada modelo, a partir das classificações feitas pelos modelos e da real classificação da espécie.</li>\n",
        "  <li> Qual tipo de flor possui mais erros em sua classificação? Considere cada um dos modelos.</li>\n",
        "  <li>Comparar a performance dos modelos.</li>\n",
        "</ul>\n",
        "* </div>\n"
      ],
      "metadata": {
        "id": "bJzMeyCKvuPu"
      }
    },
    {
      "cell_type": "markdown",
      "source": [
        "&nbsp;&nbsp;&nbsp;&nbsp;O primeiro passo do trabalho é carregar todas as bibliotecas e pacotes necessários. Serão utilizados o pacote ``datasets`` da biblioteca `sklearn` e as bibliotecas: `pandas` e `numpy`.\n",
        "\n"
      ],
      "metadata": {
        "id": "FADe983TyFSa"
      }
    },
    {
      "cell_type": "code",
      "source": [
        "from sklearn import datasets\n",
        "import pandas as pd\n",
        "import numpy as np"
      ],
      "metadata": {
        "id": "Sjg2WTjd9CUg"
      },
      "execution_count": null,
      "outputs": []
    },
    {
      "cell_type": "markdown",
      "source": [
        "## Modelos\n",
        "\n",
        "&nbsp;&nbsp;&nbsp;&nbsp;O passo seguinte é a implementação de cada um dos modelos de decisão.\n",
        "\n",
        "&nbsp;&nbsp;&nbsp;&nbsp;Na célula a seguir está a função para a Árvore de decisão 1 de acordo com o esquema da figura a seguir:\n",
        "<p align=\"center\">\n",
        "<img src=\"https://2315530342-files.gitbook.io/~/files/v0/b/gitbook-x-prod.appspot.com/o/spaces%2F9b3SygR9zeKNE1GzRbQb%2Fuploads%2Fgit-blob-15c738f69ff03a8e5ec5086b31ecd2616d0e95e0%2Farvore1.png?alt=media\" alt=\"drawing\" width=\"500\"/>\n",
        "</p>\n"
      ],
      "metadata": {
        "id": "oy4-ZTdw6tRW"
      }
    },
    {
      "cell_type": "code",
      "source": [
        "def tree01(sepal_width, petal_length, petal_width):\n",
        "    '''Árvore de decisão 01. Classifica as flores Iris de acordo com\n",
        "    a estrutura apresentada para o modelo de árvore de decisão 01.\n",
        "\n",
        "    Args:\n",
        "        sepal_width (float): A largura da sépala em centímetros\n",
        "        petal_length (float): O comprimento da pétala em centímetros\n",
        "        petal_width (float): A largura da pétala em centímetros\n",
        "    \n",
        "    Returns:\n",
        "        string: O tipo da flor: setosa, versicolor ou virginica\n",
        "    '''\n",
        "    if petal_length <= 2.45:\n",
        "        return 'setosa'\n",
        "    else:\n",
        "        if petal_width <= 1.75:\n",
        "            if petal_length <= 4.95:\n",
        "                if petal_width <= 1.65:\n",
        "                    return 'versicolor'\n",
        "                else:\n",
        "                    return 'virginica'\n",
        "            else:\n",
        "                if petal_width <= 1.55:\n",
        "                    return 'virginica'\n",
        "                else:\n",
        "                    return 'versicolor'\n",
        "        else:\n",
        "            if petal_length <= 4.85:\n",
        "                if sepal_width <= 3.1:\n",
        "                    return 'virginica'\n",
        "                else:\n",
        "                    return 'versicolor'\n",
        "            else:\n",
        "                return 'virginica'\n"
      ],
      "metadata": {
        "id": "9lQ4ojnx6xDm"
      },
      "execution_count": null,
      "outputs": []
    },
    {
      "cell_type": "markdown",
      "source": [
        "&nbsp;&nbsp;&nbsp;&nbsp;A célula a seguir contém a função para a árvore de decisão 2 seguindo o esquema mostrado na seguinte figura.\n",
        "<p align=\"center\">\n",
        "<img src=\"https://2315530342-files.gitbook.io/~/files/v0/b/gitbook-x-prod.appspot.com/o/spaces%2F9b3SygR9zeKNE1GzRbQb%2Fuploads%2Fgit-blob-1577866dcebddb363a292de23049d74be184d4d9%2Farvore2.png?alt=media\" alt=\"drawing\" width=\"300\"/>\n",
        "</p>"
      ],
      "metadata": {
        "id": "zWk2KQ5z8tuA"
      }
    },
    {
      "cell_type": "code",
      "source": [
        "def tree02(petal_length, petal_width):\n",
        "    '''Árvore de decisão 02. Classifica as flores Iris de acordo com\n",
        "    a estrutura apresentada para o modelo de árvore de decisão 02.\n",
        "\n",
        "    Args:\n",
        "        petal_length (float): O comprimento da pétala em centímetros\n",
        "        petal_width (float): A largura da pétala em centímetros\n",
        "    \n",
        "    Returns:\n",
        "        string: O tipo da flor: setosa, versicolor ou virginica\n",
        "    '''\n",
        "    if petal_length <= 2.45:\n",
        "        return 'setosa'\n",
        "    else:\n",
        "        if petal_width <= 1.75:\n",
        "            return 'versicolor'\n",
        "        else:\n",
        "            return 'virginica'"
      ],
      "metadata": {
        "id": "P4KEmuy_8wI5"
      },
      "execution_count": null,
      "outputs": []
    },
    {
      "cell_type": "markdown",
      "source": [
        "<p align='justify'>&nbsp;&nbsp;&nbsp;&nbsp;A Matriz de Confusão é uma importante ferramenta para a classificação de modelos de classficação como é o caso da ávores de decisão. Ela mostra, em um único quadro, as quantidades de acertos e erros do modelo. Na matriz de confusão são exibidas as seguintes métricas:<p>\n",
        "\n",
        "<p align='justify'> &nbsp;&nbsp;&nbsp;&nbsp;<strong>Verdadeiros Positivos (VP):</strong> Número de elementos classificados corretamente como pertecentes a uma determinada classe. </p>\n",
        "\n",
        "<p align='justify'> &nbsp;&nbsp;&nbsp;&nbsp;<strong>Falsos Positivos (FP):</strong> Número de elementos classificados erroneamente como pertecentes a uma determinada classe.</p>\n",
        "\n",
        "<p align='justify'> &nbsp;&nbsp;&nbsp;&nbsp;<strong>Verdadeiros Negaticos (VN):</strong> Número de elementos classificados corretamente como pertecentes a um determinada classe.</p>\n",
        "\n",
        "<p align='justify'> &nbsp;&nbsp;&nbsp;&nbsp;<strong>Falsos Negativos (FN):</strong> Número de elementos classificados erroneamente como não pertecentes a uma determinada classe.</p>\n",
        "\n",
        "<p align='justify'>&nbsp;&nbsp;&nbsp;&nbsp;A função <code>confusion_matrix</code> a seguir monta uma matriz de confusão cuja resposta é uma lista com a seguinte estrutura.</p>\n",
        "<table style=\"height: 264px; margin-left: auto; margin-right: auto;\" width=\"371\">\n",
        "<tbody>\n",
        "<tr style=\"height: 65px;\">\n",
        "<td style=\"width: 92.5px; height: 130px;\" colspan=\"2\" rowspan=\"2\">&nbsp;</td>\n",
        "<td style=\"width: 92.5px; height: 65px;\" colspan=\"2\">PREVISTO</td>\n",
        "</tr>\n",
        "<tr style=\"height: 65px;\">\n",
        "<td style=\"width: 92.5px; height: 65px;\">SIM</td>\n",
        "<td style=\"width: 92.5px; height: 65px;\">N&Atilde;O</td>\n",
        "</tr>\n",
        "<tr style=\"height: 65.75px;\">\n",
        "<td style=\"width: 92.5px; height: 130.75px;\" rowspan=\"2\">REAL</td>\n",
        "<td style=\"width: 92.5px; height: 65.75px;\">SIM</td>\n",
        "<td style=\"width: 92.5px; height: 65.75px;\">VP</td>\n",
        "<td style=\"width: 92.5px; height: 65.75px;\">FN</td>\n",
        "</tr>\n",
        "<tr style=\"height: 65px;\">\n",
        "<td style=\"width: 92.5px; height: 65px;\">N&Atilde;O</td>\n",
        "<td style=\"width: 92.5px; height: 65px;\">FP</td>\n",
        "<td style=\"width: 92.5px; height: 65px;\">VN</td>\n",
        "</tr>\n",
        "</tbody>\n",
        "</table>"
      ],
      "metadata": {
        "id": "1rWhw1HbqcMG"
      }
    },
    {
      "cell_type": "code",
      "source": [
        "def confusion_matrix(predicted, target, label):\n",
        "    '''Retorna a matriz confusão.\n",
        "\n",
        "    Args:\n",
        "        predicted (list): Lista de valores preditos pelo modelo\n",
        "        target (list): Lista de valores reais contidos do dataset\n",
        "        label (str): Nome da classe alvo.\n",
        "    \n",
        "    Returns:\n",
        "        cf_matrix (list): Lista bidimensional correspondente a matriz confusão do modelo.\n",
        "    '''\n",
        "    cf_matrix = [[0,0],[0,0]]\n",
        "\n",
        "    if len(predicted) != len(target):\n",
        "        raise Exception('As duas listas precisam ter o mesmo tamanho.')\n",
        "    \n",
        "    for i in range(len(predicted)):\n",
        "        if predicted[i] == target[i] == label: \n",
        "            cf_matrix[0][0] += 1                            # Verdadeiros Positivos\n",
        "        elif predicted[i] != label and target[i] == label:\n",
        "            cf_matrix[0][1] += 1                            # Falsos Positivos\n",
        "        elif predicted[i] == label and target[i] != label:\n",
        "            cf_matrix[1][0] += 1                            # Falsos Negativos\n",
        "        else:\n",
        "            cf_matrix[1][1] += 1                            # Verdadeiros Negativos\n",
        "    \n",
        "    return cf_matrix"
      ],
      "metadata": {
        "id": "bd_7jEvA3IUu"
      },
      "execution_count": null,
      "outputs": []
    },
    {
      "cell_type": "markdown",
      "source": [
        "<p align=\"justify\">&nbsp;&nbsp;&nbsp;&nbsp;A matriz confusão que serve de suporte para a avaliação geral do modelo porém existem outras métricas, derivadas da matriz de confusão, que podem ser utilizadas para avaliar os modelos de classificação. Duas delas, e que serão utilizadas neste trabalho, são a <strong>precisão</strong> e a <strong>acurácia</strong>.</p>\n",
        "<p align=\"justify\">&nbsp;&nbsp;&nbsp;&nbsp;Além da matriz confusão serão ainda utilizadas as métricas de avaliação: precisão e acurácia. Estas métricas foram escolhidas por serem algumas das mais comuns e por, em conjunto, revelerem as características principais dos modelos para a aplicação proposta que é classificar corretamente cada uma das espécies de flores.</p>\n",
        "</p>\n",
        "<p align=\"justify\">&nbsp;&nbsp;&nbsp;&nbsp;A primeira delas é precisão que mensura a taxa de acertos efetivos do modelo. Ou seja, a porcentagem de casos que o modelo classificou corretamente como pertencente a classe alvo. A fórmula de cálculo da precisão é a seguinte.</p>\n",
        "$$precisao = \\frac{VP}{VP+FP}$$"
      ],
      "metadata": {
        "id": "xSOaf2EPyBsB"
      }
    },
    {
      "cell_type": "code",
      "source": [
        "def precision(cf_matrix):\n",
        "    '''Calcula a precisão de um modelo a partir de sua matriz de confusão.\n",
        "\n",
        "    Args:\n",
        "        cf_matrix (list): Lista bidimensional com a matriz de confusão de um\n",
        "                          modelo.\n",
        "\n",
        "    Returns:\n",
        "        float: Precisão do modelo\n",
        "    '''\n",
        "    vp = cf_matrix[0][0]\n",
        "    fp = cf_matrix[1][0]\n",
        "    return vp/(vp + fp)"
      ],
      "metadata": {
        "id": "A64kTVWitTHY"
      },
      "execution_count": null,
      "outputs": []
    },
    {
      "cell_type": "markdown",
      "source": [
        "<p align=\"justify\">&nbsp;&nbsp;&nbsp;&nbsp;Uma segunda métrica muito utilizada para avaliação de modelos de clssificação é a <strong>acurácia</strong>, em especial quanto têm-se classes equilibradas como é o caso da Iris. A acurácia mede a taxa de acertos do modelo (tanto para VP quanto para VN) e é definida pela seguinte fórmula.</p>\n",
        "$$acuracia = \\frac{VP + VN}{VP+VN+FP+FN}$$ "
      ],
      "metadata": {
        "id": "qFVS0vyW0IlH"
      }
    },
    {
      "cell_type": "code",
      "source": [
        "def accuracy(cf_matrix):\n",
        "    '''Calcula a acurácia de um modelo a partir de sua matriz de confusão.\n",
        "\n",
        "    Args:\n",
        "        cf_matrix (list): Lista bidimensional com a matriz confusão de um modelo.\n",
        "    \n",
        "    Returns:\n",
        "        float: Acurácia do modelo.\n",
        "    '''\n",
        "    vp = cf_matrix[0][0]\n",
        "    fn = cf_matrix[0][1]\n",
        "    fp = cf_matrix[1][0]\n",
        "    vn = cf_matrix[1][1]\n",
        "    return (vp+vn)/(vp+vn+fp+fn)"
      ],
      "metadata": {
        "id": "PxxojKEqu8Im"
      },
      "execution_count": null,
      "outputs": []
    },
    {
      "cell_type": "markdown",
      "source": [
        "## Dados\n",
        "\n",
        "&nbsp;&nbsp;&nbsp;&nbsp;Os dados que utilizados para classificar novas flores foram atríbuidos a um DataFrame por meio do código abaixo:\n"
      ],
      "metadata": {
        "id": "mX_NCar29DaU"
      }
    },
    {
      "cell_type": "code",
      "source": [
        "iris = datasets.load_iris() #   Carrega o dataset Iris.\n",
        "dados = pd.DataFrame(data=np.c_[iris['data'], iris['target']],\n",
        "                     columns = iris['feature_names'] + ['target'])"
      ],
      "metadata": {
        "id": "DHVoRhyL9Qfq"
      },
      "execution_count": null,
      "outputs": []
    },
    {
      "cell_type": "markdown",
      "source": [
        "<p align=\"justify\">&nbsp;&nbsp;&nbsp;&nbsp;A seguir são exibidas as informações gerais do dataset. Apenas para a conferência se existem falhas nas séries e se as colunas do DataFrame estão com a formatação esperada. O resultado confirma que não há falhas no dataset e que todas as colunas contém falores do tipo <code>float64</code>.</p>"
      ],
      "metadata": {
        "id": "S26gAwtr6_6b"
      }
    },
    {
      "cell_type": "code",
      "source": [
        "dados.info()"
      ],
      "metadata": {
        "colab": {
          "base_uri": "https://localhost:8080/"
        },
        "id": "wblKoFx29c19",
        "outputId": "34f7c929-045a-4d9c-c527-f476c3248518"
      },
      "execution_count": null,
      "outputs": [
        {
          "output_type": "stream",
          "name": "stdout",
          "text": [
            "<class 'pandas.core.frame.DataFrame'>\n",
            "RangeIndex: 150 entries, 0 to 149\n",
            "Data columns (total 5 columns):\n",
            " #   Column             Non-Null Count  Dtype  \n",
            "---  ------             --------------  -----  \n",
            " 0   sepal length (cm)  150 non-null    float64\n",
            " 1   sepal width (cm)   150 non-null    float64\n",
            " 2   petal length (cm)  150 non-null    float64\n",
            " 3   petal width (cm)   150 non-null    float64\n",
            " 4   target             150 non-null    float64\n",
            "dtypes: float64(5)\n",
            "memory usage: 6.0 KB\n"
          ]
        }
      ]
    },
    {
      "cell_type": "markdown",
      "source": [
        "&nbsp;&nbsp;&nbsp;&nbsp;Cada linha representa uma flor e as medida de sépalas e pétalas das mesmas podem ser visualizadas nas colunas dos dataframes. A coluna target representa a real classificação da flor com o seguinte mapeamento:\n",
        "\n",
        "0: setosa\n",
        "\n",
        "1: versicolor\n",
        "\n",
        "2: virginica\n",
        "\n",
        "&nbsp;&nbsp;&nbsp;&nbsp;Assim, para facilitar a compreesão humana irei trocar os índices númericos da coluna `target` por strings contendo o nome de cada tipo de flor, segundo a tabela de classificação acima."
      ],
      "metadata": {
        "id": "jeDp5-YN9gvm"
      }
    },
    {
      "cell_type": "code",
      "source": [
        "flowers = {0:'setosa', 1:'versicolor', 2:'virginica'}\n",
        "dados['target'] = dados['target'].map(flowers)"
      ],
      "metadata": {
        "id": "7A4TpOz_9ebw"
      },
      "execution_count": null,
      "outputs": []
    },
    {
      "cell_type": "markdown",
      "source": [
        "&nbsp;&nbsp;&nbsp;&nbsp;A seguir são mostradas as primeiras linhas do dataset após o renomeamento das células da coluna `target`."
      ],
      "metadata": {
        "id": "PprRNJsB-XQe"
      }
    },
    {
      "cell_type": "code",
      "source": [
        "dados.head()"
      ],
      "metadata": {
        "colab": {
          "base_uri": "https://localhost:8080/",
          "height": 206
        },
        "id": "Dywcd8WV-K0O",
        "outputId": "da697deb-f53c-4a76-ec57-860358b28b4e"
      },
      "execution_count": null,
      "outputs": [
        {
          "output_type": "execute_result",
          "data": {
            "text/plain": [
              "   sepal length (cm)  sepal width (cm)  petal length (cm)  petal width (cm)  \\\n",
              "0                5.1               3.5                1.4               0.2   \n",
              "1                4.9               3.0                1.4               0.2   \n",
              "2                4.7               3.2                1.3               0.2   \n",
              "3                4.6               3.1                1.5               0.2   \n",
              "4                5.0               3.6                1.4               0.2   \n",
              "\n",
              "   target  \n",
              "0  setosa  \n",
              "1  setosa  \n",
              "2  setosa  \n",
              "3  setosa  \n",
              "4  setosa  "
            ],
            "text/html": [
              "\n",
              "  <div id=\"df-cb942aa7-5f6f-4cfd-8ebe-f877d56af884\">\n",
              "    <div class=\"colab-df-container\">\n",
              "      <div>\n",
              "<style scoped>\n",
              "    .dataframe tbody tr th:only-of-type {\n",
              "        vertical-align: middle;\n",
              "    }\n",
              "\n",
              "    .dataframe tbody tr th {\n",
              "        vertical-align: top;\n",
              "    }\n",
              "\n",
              "    .dataframe thead th {\n",
              "        text-align: right;\n",
              "    }\n",
              "</style>\n",
              "<table border=\"1\" class=\"dataframe\">\n",
              "  <thead>\n",
              "    <tr style=\"text-align: right;\">\n",
              "      <th></th>\n",
              "      <th>sepal length (cm)</th>\n",
              "      <th>sepal width (cm)</th>\n",
              "      <th>petal length (cm)</th>\n",
              "      <th>petal width (cm)</th>\n",
              "      <th>target</th>\n",
              "    </tr>\n",
              "  </thead>\n",
              "  <tbody>\n",
              "    <tr>\n",
              "      <th>0</th>\n",
              "      <td>5.1</td>\n",
              "      <td>3.5</td>\n",
              "      <td>1.4</td>\n",
              "      <td>0.2</td>\n",
              "      <td>setosa</td>\n",
              "    </tr>\n",
              "    <tr>\n",
              "      <th>1</th>\n",
              "      <td>4.9</td>\n",
              "      <td>3.0</td>\n",
              "      <td>1.4</td>\n",
              "      <td>0.2</td>\n",
              "      <td>setosa</td>\n",
              "    </tr>\n",
              "    <tr>\n",
              "      <th>2</th>\n",
              "      <td>4.7</td>\n",
              "      <td>3.2</td>\n",
              "      <td>1.3</td>\n",
              "      <td>0.2</td>\n",
              "      <td>setosa</td>\n",
              "    </tr>\n",
              "    <tr>\n",
              "      <th>3</th>\n",
              "      <td>4.6</td>\n",
              "      <td>3.1</td>\n",
              "      <td>1.5</td>\n",
              "      <td>0.2</td>\n",
              "      <td>setosa</td>\n",
              "    </tr>\n",
              "    <tr>\n",
              "      <th>4</th>\n",
              "      <td>5.0</td>\n",
              "      <td>3.6</td>\n",
              "      <td>1.4</td>\n",
              "      <td>0.2</td>\n",
              "      <td>setosa</td>\n",
              "    </tr>\n",
              "  </tbody>\n",
              "</table>\n",
              "</div>\n",
              "      <button class=\"colab-df-convert\" onclick=\"convertToInteractive('df-cb942aa7-5f6f-4cfd-8ebe-f877d56af884')\"\n",
              "              title=\"Convert this dataframe to an interactive table.\"\n",
              "              style=\"display:none;\">\n",
              "        \n",
              "  <svg xmlns=\"http://www.w3.org/2000/svg\" height=\"24px\"viewBox=\"0 0 24 24\"\n",
              "       width=\"24px\">\n",
              "    <path d=\"M0 0h24v24H0V0z\" fill=\"none\"/>\n",
              "    <path d=\"M18.56 5.44l.94 2.06.94-2.06 2.06-.94-2.06-.94-.94-2.06-.94 2.06-2.06.94zm-11 1L8.5 8.5l.94-2.06 2.06-.94-2.06-.94L8.5 2.5l-.94 2.06-2.06.94zm10 10l.94 2.06.94-2.06 2.06-.94-2.06-.94-.94-2.06-.94 2.06-2.06.94z\"/><path d=\"M17.41 7.96l-1.37-1.37c-.4-.4-.92-.59-1.43-.59-.52 0-1.04.2-1.43.59L10.3 9.45l-7.72 7.72c-.78.78-.78 2.05 0 2.83L4 21.41c.39.39.9.59 1.41.59.51 0 1.02-.2 1.41-.59l7.78-7.78 2.81-2.81c.8-.78.8-2.07 0-2.86zM5.41 20L4 18.59l7.72-7.72 1.47 1.35L5.41 20z\"/>\n",
              "  </svg>\n",
              "      </button>\n",
              "      \n",
              "  <style>\n",
              "    .colab-df-container {\n",
              "      display:flex;\n",
              "      flex-wrap:wrap;\n",
              "      gap: 12px;\n",
              "    }\n",
              "\n",
              "    .colab-df-convert {\n",
              "      background-color: #E8F0FE;\n",
              "      border: none;\n",
              "      border-radius: 50%;\n",
              "      cursor: pointer;\n",
              "      display: none;\n",
              "      fill: #1967D2;\n",
              "      height: 32px;\n",
              "      padding: 0 0 0 0;\n",
              "      width: 32px;\n",
              "    }\n",
              "\n",
              "    .colab-df-convert:hover {\n",
              "      background-color: #E2EBFA;\n",
              "      box-shadow: 0px 1px 2px rgba(60, 64, 67, 0.3), 0px 1px 3px 1px rgba(60, 64, 67, 0.15);\n",
              "      fill: #174EA6;\n",
              "    }\n",
              "\n",
              "    [theme=dark] .colab-df-convert {\n",
              "      background-color: #3B4455;\n",
              "      fill: #D2E3FC;\n",
              "    }\n",
              "\n",
              "    [theme=dark] .colab-df-convert:hover {\n",
              "      background-color: #434B5C;\n",
              "      box-shadow: 0px 1px 3px 1px rgba(0, 0, 0, 0.15);\n",
              "      filter: drop-shadow(0px 1px 2px rgba(0, 0, 0, 0.3));\n",
              "      fill: #FFFFFF;\n",
              "    }\n",
              "  </style>\n",
              "\n",
              "      <script>\n",
              "        const buttonEl =\n",
              "          document.querySelector('#df-cb942aa7-5f6f-4cfd-8ebe-f877d56af884 button.colab-df-convert');\n",
              "        buttonEl.style.display =\n",
              "          google.colab.kernel.accessAllowed ? 'block' : 'none';\n",
              "\n",
              "        async function convertToInteractive(key) {\n",
              "          const element = document.querySelector('#df-cb942aa7-5f6f-4cfd-8ebe-f877d56af884');\n",
              "          const dataTable =\n",
              "            await google.colab.kernel.invokeFunction('convertToInteractive',\n",
              "                                                     [key], {});\n",
              "          if (!dataTable) return;\n",
              "\n",
              "          const docLinkHtml = 'Like what you see? Visit the ' +\n",
              "            '<a target=\"_blank\" href=https://colab.research.google.com/notebooks/data_table.ipynb>data table notebook</a>'\n",
              "            + ' to learn more about interactive tables.';\n",
              "          element.innerHTML = '';\n",
              "          dataTable['output_type'] = 'display_data';\n",
              "          await google.colab.output.renderOutput(dataTable, element);\n",
              "          const docLink = document.createElement('div');\n",
              "          docLink.innerHTML = docLinkHtml;\n",
              "          element.appendChild(docLink);\n",
              "        }\n",
              "      </script>\n",
              "    </div>\n",
              "  </div>\n",
              "  "
            ]
          },
          "metadata": {},
          "execution_count": 48
        }
      ]
    },
    {
      "cell_type": "markdown",
      "source": [
        "<p align='justify'>&nbsp;&nbsp;&nbsp;&nbsp;A seguir é exibido um scatterplot com as duas variáveis que, segundo o modelo das duas ávores de decisão, são as principais para diferenciar cada tipo de flor. </p>"
      ],
      "metadata": {
        "id": "kCCK0D_s4QDr"
      }
    },
    {
      "cell_type": "code",
      "source": [
        "import seaborn as sns\n",
        "sns.scatterplot(data=dados, x='petal length (cm)', y='petal width (cm)', hue='target')"
      ],
      "metadata": {
        "colab": {
          "base_uri": "https://localhost:8080/",
          "height": 296
        },
        "id": "tdcrva6e1v76",
        "outputId": "e1e28274-efaa-4fd1-f558-b49c32e8b2a4"
      },
      "execution_count": null,
      "outputs": [
        {
          "output_type": "execute_result",
          "data": {
            "text/plain": [
              "<matplotlib.axes._subplots.AxesSubplot at 0x7fdf4ab89dd0>"
            ]
          },
          "metadata": {},
          "execution_count": 49
        },
        {
          "output_type": "display_data",
          "data": {
            "text/plain": [
              "<Figure size 432x288 with 1 Axes>"
            ],
            "image/png": "[encoded data removed]"
          },
          "metadata": {
            "needs_background": "light"
          }
        }
      ]
    },
    {
      "cell_type": "markdown",
      "source": [
        "<p align='justify'>&nbsp;&nbsp;&nbsp;&nbsp;O gráfico acima mostra que a espécie setosa é a que se destaca mais em relação as outras duas espécies. Devido a esta característica é esperado então que os modelos tenham melhor desempenho para classificar esta espécie que as demais. Para as espécies versicolor e virginica existe uma zona de intersecção entre as duas espécies que poderá dificultar a capacidade dos modelos em classificar estas duas espécies.</p>"
      ],
      "metadata": {
        "id": "0BWnNLrS419e"
      }
    },
    {
      "cell_type": "markdown",
      "source": [
        "&nbsp;&nbsp;&nbsp;&nbsp;A classificação das flores segundo o modelo `tree01` foi realizado utilizando-se um loop `for`. O procedimento é realizado na célula a seguir e em seguida são exibidas as primeiras linhas do dataset com a nova coluna `tree01`que contém a classficação das flores segundo o modelo `tree01`."
      ],
      "metadata": {
        "id": "ToJvJIWC-jo8"
      }
    },
    {
      "cell_type": "code",
      "source": [
        "class_tree01 = []\n",
        "for i in range(len(dados)):\n",
        "  class_tree01.append(tree01(dados['sepal width (cm)'][i], \n",
        "                             dados['petal length (cm)'][i], \n",
        "                             dados['petal width (cm)'][i]))\n",
        "dados['tree01'] = class_tree01\n",
        "dados.head()"
      ],
      "metadata": {
        "colab": {
          "base_uri": "https://localhost:8080/",
          "height": 206
        },
        "id": "L6p5gcrS-zuH",
        "outputId": "4cdc716b-3cf6-4b49-b213-a82382bb1de9"
      },
      "execution_count": null,
      "outputs": [
        {
          "output_type": "execute_result",
          "data": {
            "text/plain": [
              "   sepal length (cm)  sepal width (cm)  petal length (cm)  petal width (cm)  \\\n",
              "0                5.1               3.5                1.4               0.2   \n",
              "1                4.9               3.0                1.4               0.2   \n",
              "2                4.7               3.2                1.3               0.2   \n",
              "3                4.6               3.1                1.5               0.2   \n",
              "4                5.0               3.6                1.4               0.2   \n",
              "\n",
              "   target Modelo1  tree01  \n",
              "0  setosa  setosa  setosa  \n",
              "1  setosa  setosa  setosa  \n",
              "2  setosa  setosa  setosa  \n",
              "3  setosa  setosa  setosa  \n",
              "4  setosa  setosa  setosa  "
            ],
            "text/html": [
              "\n",
              "  <div id=\"df-91d1b844-92ec-4962-8688-d8a8bcf4e27e\">\n",
              "    <div class=\"colab-df-container\">\n",
              "      <div>\n",
              "<style scoped>\n",
              "    .dataframe tbody tr th:only-of-type {\n",
              "        vertical-align: middle;\n",
              "    }\n",
              "\n",
              "    .dataframe tbody tr th {\n",
              "        vertical-align: top;\n",
              "    }\n",
              "\n",
              "    .dataframe thead th {\n",
              "        text-align: right;\n",
              "    }\n",
              "</style>\n",
              "<table border=\"1\" class=\"dataframe\">\n",
              "  <thead>\n",
              "    <tr style=\"text-align: right;\">\n",
              "      <th></th>\n",
              "      <th>sepal length (cm)</th>\n",
              "      <th>sepal width (cm)</th>\n",
              "      <th>petal length (cm)</th>\n",
              "      <th>petal width (cm)</th>\n",
              "      <th>target</th>\n",
              "      <th>Modelo1</th>\n",
              "      <th>tree01</th>\n",
              "    </tr>\n",
              "  </thead>\n",
              "  <tbody>\n",
              "    <tr>\n",
              "      <th>0</th>\n",
              "      <td>5.1</td>\n",
              "      <td>3.5</td>\n",
              "      <td>1.4</td>\n",
              "      <td>0.2</td>\n",
              "      <td>setosa</td>\n",
              "      <td>setosa</td>\n",
              "      <td>setosa</td>\n",
              "    </tr>\n",
              "    <tr>\n",
              "      <th>1</th>\n",
              "      <td>4.9</td>\n",
              "      <td>3.0</td>\n",
              "      <td>1.4</td>\n",
              "      <td>0.2</td>\n",
              "      <td>setosa</td>\n",
              "      <td>setosa</td>\n",
              "      <td>setosa</td>\n",
              "    </tr>\n",
              "    <tr>\n",
              "      <th>2</th>\n",
              "      <td>4.7</td>\n",
              "      <td>3.2</td>\n",
              "      <td>1.3</td>\n",
              "      <td>0.2</td>\n",
              "      <td>setosa</td>\n",
              "      <td>setosa</td>\n",
              "      <td>setosa</td>\n",
              "    </tr>\n",
              "    <tr>\n",
              "      <th>3</th>\n",
              "      <td>4.6</td>\n",
              "      <td>3.1</td>\n",
              "      <td>1.5</td>\n",
              "      <td>0.2</td>\n",
              "      <td>setosa</td>\n",
              "      <td>setosa</td>\n",
              "      <td>setosa</td>\n",
              "    </tr>\n",
              "    <tr>\n",
              "      <th>4</th>\n",
              "      <td>5.0</td>\n",
              "      <td>3.6</td>\n",
              "      <td>1.4</td>\n",
              "      <td>0.2</td>\n",
              "      <td>setosa</td>\n",
              "      <td>setosa</td>\n",
              "      <td>setosa</td>\n",
              "    </tr>\n",
              "  </tbody>\n",
              "</table>\n",
              "</div>\n",
              "      <button class=\"colab-df-convert\" onclick=\"convertToInteractive('df-91d1b844-92ec-4962-8688-d8a8bcf4e27e')\"\n",
              "              title=\"Convert this dataframe to an interactive table.\"\n",
              "              style=\"display:none;\">\n",
              "        \n",
              "  <svg xmlns=\"http://www.w3.org/2000/svg\" height=\"24px\"viewBox=\"0 0 24 24\"\n",
              "       width=\"24px\">\n",
              "    <path d=\"M0 0h24v24H0V0z\" fill=\"none\"/>\n",
              "    <path d=\"M18.56 5.44l.94 2.06.94-2.06 2.06-.94-2.06-.94-.94-2.06-.94 2.06-2.06.94zm-11 1L8.5 8.5l.94-2.06 2.06-.94-2.06-.94L8.5 2.5l-.94 2.06-2.06.94zm10 10l.94 2.06.94-2.06 2.06-.94-2.06-.94-.94-2.06-.94 2.06-2.06.94z\"/><path d=\"M17.41 7.96l-1.37-1.37c-.4-.4-.92-.59-1.43-.59-.52 0-1.04.2-1.43.59L10.3 9.45l-7.72 7.72c-.78.78-.78 2.05 0 2.83L4 21.41c.39.39.9.59 1.41.59.51 0 1.02-.2 1.41-.59l7.78-7.78 2.81-2.81c.8-.78.8-2.07 0-2.86zM5.41 20L4 18.59l7.72-7.72 1.47 1.35L5.41 20z\"/>\n",
              "  </svg>\n",
              "      </button>\n",
              "      \n",
              "  <style>\n",
              "    .colab-df-container {\n",
              "      display:flex;\n",
              "      flex-wrap:wrap;\n",
              "      gap: 12px;\n",
              "    }\n",
              "\n",
              "    .colab-df-convert {\n",
              "      background-color: #E8F0FE;\n",
              "      border: none;\n",
              "      border-radius: 50%;\n",
              "      cursor: pointer;\n",
              "      display: none;\n",
              "      fill: #1967D2;\n",
              "      height: 32px;\n",
              "      padding: 0 0 0 0;\n",
              "      width: 32px;\n",
              "    }\n",
              "\n",
              "    .colab-df-convert:hover {\n",
              "      background-color: #E2EBFA;\n",
              "      box-shadow: 0px 1px 2px rgba(60, 64, 67, 0.3), 0px 1px 3px 1px rgba(60, 64, 67, 0.15);\n",
              "      fill: #174EA6;\n",
              "    }\n",
              "\n",
              "    [theme=dark] .colab-df-convert {\n",
              "      background-color: #3B4455;\n",
              "      fill: #D2E3FC;\n",
              "    }\n",
              "\n",
              "    [theme=dark] .colab-df-convert:hover {\n",
              "      background-color: #434B5C;\n",
              "      box-shadow: 0px 1px 3px 1px rgba(0, 0, 0, 0.15);\n",
              "      filter: drop-shadow(0px 1px 2px rgba(0, 0, 0, 0.3));\n",
              "      fill: #FFFFFF;\n",
              "    }\n",
              "  </style>\n",
              "\n",
              "      <script>\n",
              "        const buttonEl =\n",
              "          document.querySelector('#df-91d1b844-92ec-4962-8688-d8a8bcf4e27e button.colab-df-convert');\n",
              "        buttonEl.style.display =\n",
              "          google.colab.kernel.accessAllowed ? 'block' : 'none';\n",
              "\n",
              "        async function convertToInteractive(key) {\n",
              "          const element = document.querySelector('#df-91d1b844-92ec-4962-8688-d8a8bcf4e27e');\n",
              "          const dataTable =\n",
              "            await google.colab.kernel.invokeFunction('convertToInteractive',\n",
              "                                                     [key], {});\n",
              "          if (!dataTable) return;\n",
              "\n",
              "          const docLinkHtml = 'Like what you see? Visit the ' +\n",
              "            '<a target=\"_blank\" href=https://colab.research.google.com/notebooks/data_table.ipynb>data table notebook</a>'\n",
              "            + ' to learn more about interactive tables.';\n",
              "          element.innerHTML = '';\n",
              "          dataTable['output_type'] = 'display_data';\n",
              "          await google.colab.output.renderOutput(dataTable, element);\n",
              "          const docLink = document.createElement('div');\n",
              "          docLink.innerHTML = docLinkHtml;\n",
              "          element.appendChild(docLink);\n",
              "        }\n",
              "      </script>\n",
              "    </div>\n",
              "  </div>\n",
              "  "
            ]
          },
          "metadata": {},
          "execution_count": 52
        }
      ]
    },
    {
      "cell_type": "markdown",
      "source": [
        "<p align=\"justify\">&nbsp;&nbsp;&nbsp;&nbsp;A classificação das flores segundo o modelo <code>tree02</code> foi realizado utilizando-se a função <code>apply</code>. O procedimento é realizado na célula a seguir e em seguida são exibidas as primeiras linhas do dataset com a nova coluna <code>tree02</code>que contém a classficação das flores segundo o modelo <code>tree02</code>.</p>"
      ],
      "metadata": {
        "id": "QM0Xa9Du_Ahj"
      }
    },
    {
      "cell_type": "code",
      "source": [
        "dados['tree02'] = dados.apply(lambda x: tree02(x['petal length (cm)'], \n",
        "                                               x['petal width (cm)']), axis=1)\n",
        "dados.head()"
      ],
      "metadata": {
        "colab": {
          "base_uri": "https://localhost:8080/",
          "height": 206
        },
        "id": "jPTx5sbl_KXn",
        "outputId": "4527466f-04c9-4ddd-85ec-d49c6603ca1a"
      },
      "execution_count": null,
      "outputs": [
        {
          "output_type": "execute_result",
          "data": {
            "text/plain": [
              "   sepal length (cm)  sepal width (cm)  petal length (cm)  petal width (cm)  \\\n",
              "0                5.1               3.5                1.4               0.2   \n",
              "1                4.9               3.0                1.4               0.2   \n",
              "2                4.7               3.2                1.3               0.2   \n",
              "3                4.6               3.1                1.5               0.2   \n",
              "4                5.0               3.6                1.4               0.2   \n",
              "\n",
              "   target Modelo1  tree01  tree02  \n",
              "0  setosa  setosa  setosa  setosa  \n",
              "1  setosa  setosa  setosa  setosa  \n",
              "2  setosa  setosa  setosa  setosa  \n",
              "3  setosa  setosa  setosa  setosa  \n",
              "4  setosa  setosa  setosa  setosa  "
            ],
            "text/html": [
              "\n",
              "  <div id=\"df-38563996-d895-44f6-8bcb-07fd59c434f8\">\n",
              "    <div class=\"colab-df-container\">\n",
              "      <div>\n",
              "<style scoped>\n",
              "    .dataframe tbody tr th:only-of-type {\n",
              "        vertical-align: middle;\n",
              "    }\n",
              "\n",
              "    .dataframe tbody tr th {\n",
              "        vertical-align: top;\n",
              "    }\n",
              "\n",
              "    .dataframe thead th {\n",
              "        text-align: right;\n",
              "    }\n",
              "</style>\n",
              "<table border=\"1\" class=\"dataframe\">\n",
              "  <thead>\n",
              "    <tr style=\"text-align: right;\">\n",
              "      <th></th>\n",
              "      <th>sepal length (cm)</th>\n",
              "      <th>sepal width (cm)</th>\n",
              "      <th>petal length (cm)</th>\n",
              "      <th>petal width (cm)</th>\n",
              "      <th>target</th>\n",
              "      <th>Modelo1</th>\n",
              "      <th>tree01</th>\n",
              "      <th>tree02</th>\n",
              "    </tr>\n",
              "  </thead>\n",
              "  <tbody>\n",
              "    <tr>\n",
              "      <th>0</th>\n",
              "      <td>5.1</td>\n",
              "      <td>3.5</td>\n",
              "      <td>1.4</td>\n",
              "      <td>0.2</td>\n",
              "      <td>setosa</td>\n",
              "      <td>setosa</td>\n",
              "      <td>setosa</td>\n",
              "      <td>setosa</td>\n",
              "    </tr>\n",
              "    <tr>\n",
              "      <th>1</th>\n",
              "      <td>4.9</td>\n",
              "      <td>3.0</td>\n",
              "      <td>1.4</td>\n",
              "      <td>0.2</td>\n",
              "      <td>setosa</td>\n",
              "      <td>setosa</td>\n",
              "      <td>setosa</td>\n",
              "      <td>setosa</td>\n",
              "    </tr>\n",
              "    <tr>\n",
              "      <th>2</th>\n",
              "      <td>4.7</td>\n",
              "      <td>3.2</td>\n",
              "      <td>1.3</td>\n",
              "      <td>0.2</td>\n",
              "      <td>setosa</td>\n",
              "      <td>setosa</td>\n",
              "      <td>setosa</td>\n",
              "      <td>setosa</td>\n",
              "    </tr>\n",
              "    <tr>\n",
              "      <th>3</th>\n",
              "      <td>4.6</td>\n",
              "      <td>3.1</td>\n",
              "      <td>1.5</td>\n",
              "      <td>0.2</td>\n",
              "      <td>setosa</td>\n",
              "      <td>setosa</td>\n",
              "      <td>setosa</td>\n",
              "      <td>setosa</td>\n",
              "    </tr>\n",
              "    <tr>\n",
              "      <th>4</th>\n",
              "      <td>5.0</td>\n",
              "      <td>3.6</td>\n",
              "      <td>1.4</td>\n",
              "      <td>0.2</td>\n",
              "      <td>setosa</td>\n",
              "      <td>setosa</td>\n",
              "      <td>setosa</td>\n",
              "      <td>setosa</td>\n",
              "    </tr>\n",
              "  </tbody>\n",
              "</table>\n",
              "</div>\n",
              "      <button class=\"colab-df-convert\" onclick=\"convertToInteractive('df-38563996-d895-44f6-8bcb-07fd59c434f8')\"\n",
              "              title=\"Convert this dataframe to an interactive table.\"\n",
              "              style=\"display:none;\">\n",
              "        \n",
              "  <svg xmlns=\"http://www.w3.org/2000/svg\" height=\"24px\"viewBox=\"0 0 24 24\"\n",
              "       width=\"24px\">\n",
              "    <path d=\"M0 0h24v24H0V0z\" fill=\"none\"/>\n",
              "    <path d=\"M18.56 5.44l.94 2.06.94-2.06 2.06-.94-2.06-.94-.94-2.06-.94 2.06-2.06.94zm-11 1L8.5 8.5l.94-2.06 2.06-.94-2.06-.94L8.5 2.5l-.94 2.06-2.06.94zm10 10l.94 2.06.94-2.06 2.06-.94-2.06-.94-.94-2.06-.94 2.06-2.06.94z\"/><path d=\"M17.41 7.96l-1.37-1.37c-.4-.4-.92-.59-1.43-.59-.52 0-1.04.2-1.43.59L10.3 9.45l-7.72 7.72c-.78.78-.78 2.05 0 2.83L4 21.41c.39.39.9.59 1.41.59.51 0 1.02-.2 1.41-.59l7.78-7.78 2.81-2.81c.8-.78.8-2.07 0-2.86zM5.41 20L4 18.59l7.72-7.72 1.47 1.35L5.41 20z\"/>\n",
              "  </svg>\n",
              "      </button>\n",
              "      \n",
              "  <style>\n",
              "    .colab-df-container {\n",
              "      display:flex;\n",
              "      flex-wrap:wrap;\n",
              "      gap: 12px;\n",
              "    }\n",
              "\n",
              "    .colab-df-convert {\n",
              "      background-color: #E8F0FE;\n",
              "      border: none;\n",
              "      border-radius: 50%;\n",
              "      cursor: pointer;\n",
              "      display: none;\n",
              "      fill: #1967D2;\n",
              "      height: 32px;\n",
              "      padding: 0 0 0 0;\n",
              "      width: 32px;\n",
              "    }\n",
              "\n",
              "    .colab-df-convert:hover {\n",
              "      background-color: #E2EBFA;\n",
              "      box-shadow: 0px 1px 2px rgba(60, 64, 67, 0.3), 0px 1px 3px 1px rgba(60, 64, 67, 0.15);\n",
              "      fill: #174EA6;\n",
              "    }\n",
              "\n",
              "    [theme=dark] .colab-df-convert {\n",
              "      background-color: #3B4455;\n",
              "      fill: #D2E3FC;\n",
              "    }\n",
              "\n",
              "    [theme=dark] .colab-df-convert:hover {\n",
              "      background-color: #434B5C;\n",
              "      box-shadow: 0px 1px 3px 1px rgba(0, 0, 0, 0.15);\n",
              "      filter: drop-shadow(0px 1px 2px rgba(0, 0, 0, 0.3));\n",
              "      fill: #FFFFFF;\n",
              "    }\n",
              "  </style>\n",
              "\n",
              "      <script>\n",
              "        const buttonEl =\n",
              "          document.querySelector('#df-38563996-d895-44f6-8bcb-07fd59c434f8 button.colab-df-convert');\n",
              "        buttonEl.style.display =\n",
              "          google.colab.kernel.accessAllowed ? 'block' : 'none';\n",
              "\n",
              "        async function convertToInteractive(key) {\n",
              "          const element = document.querySelector('#df-38563996-d895-44f6-8bcb-07fd59c434f8');\n",
              "          const dataTable =\n",
              "            await google.colab.kernel.invokeFunction('convertToInteractive',\n",
              "                                                     [key], {});\n",
              "          if (!dataTable) return;\n",
              "\n",
              "          const docLinkHtml = 'Like what you see? Visit the ' +\n",
              "            '<a target=\"_blank\" href=https://colab.research.google.com/notebooks/data_table.ipynb>data table notebook</a>'\n",
              "            + ' to learn more about interactive tables.';\n",
              "          element.innerHTML = '';\n",
              "          dataTable['output_type'] = 'display_data';\n",
              "          await google.colab.output.renderOutput(dataTable, element);\n",
              "          const docLink = document.createElement('div');\n",
              "          docLink.innerHTML = docLinkHtml;\n",
              "          element.appendChild(docLink);\n",
              "        }\n",
              "      </script>\n",
              "    </div>\n",
              "  </div>\n",
              "  "
            ]
          },
          "metadata": {},
          "execution_count": 53
        }
      ]
    },
    {
      "cell_type": "markdown",
      "source": [
        "## Avaliação do desempenho dos modelos\n",
        "\n",
        "<p align=\"justify\">&nbsp;&nbsp;&nbsp;&nbsp;O primeiro passo para avaliar o desempenho dos modelos, após a classificação das flores é a construção da matriz confusão para cada um. A matrizes confusão, de ambos os modelos, serão armazenadas em um dicionário chamado <code>confusion_matrices</code>. Para cada modelo será montada a matriz confusão para cada um dos tipos de flores do dataset, assim serão três matriz confusão por modelo. Com isto já será possível identificar qual tipo de flor os modelos têm mais dificuldade de identificar e qual o modelo têm acerta mais.</p>"
      ],
      "metadata": {
        "id": "qsAUbtjP_OEf"
      }
    },
    {
      "cell_type": "code",
      "source": [
        "confusion_matrices = {'tree01':{}, 'tree02':{}}\n",
        "\n",
        "for model in ['tree01', 'tree02']:\n",
        "    for flower in ['setosa', 'versicolor', 'virginica']:\n",
        "        confusion_matrices[model][flower] = confusion_matrix(dados[model], dados['target'], flower)"
      ],
      "metadata": {
        "id": "yN0mqJOfBA7z"
      },
      "execution_count": null,
      "outputs": []
    },
    {
      "cell_type": "markdown",
      "source": [
        "&nbsp;&nbsp;&nbsp;&nbsp;Ao executar a célula a seguir são exibidas as matrizes confusão geradas anteriormente."
      ],
      "metadata": {
        "id": "q7w72dS0DC-J"
      }
    },
    {
      "cell_type": "code",
      "source": [
        "for cf in confusion_matrices:\n",
        "    print(f'MODELO: {cf}')\n",
        "    for flower in confusion_matrices[cf]:\n",
        "        print(f'\\tTIPO DE FLOR: {flower}')\n",
        "        print('\\t\\tMATRIZ CONFUSÃO')\n",
        "        for i, line in enumerate(confusion_matrices[cf][flower]):\n",
        "            print('\\t\\t', end='')\n",
        "            if i == 0:\n",
        "                print_line = f'| VP = {line[0]: <3} | FN = {line[1]:<3} |'\n",
        "            else:\n",
        "                print_line = f'| FP = {line[0]:<3} | VN = {line[1]:<3} |'\n",
        "            print(print_line)\n",
        "        print()\n",
        "    print('='*40)"
      ],
      "metadata": {
        "colab": {
          "base_uri": "https://localhost:8080/"
        },
        "id": "kBNQ8bIzAIhk",
        "outputId": "a78ce027-2c22-4866-e8cc-baa321b03f7a"
      },
      "execution_count": null,
      "outputs": [
        {
          "output_type": "stream",
          "name": "stdout",
          "text": [
            "MODELO: tree01\n",
            "\tTIPO DE FLOR: setosa\n",
            "\t\tMATRIZ CONFUSÃO\n",
            "\t\t| VP = 50  | FN = 0   |\n",
            "\t\t| FP = 0   | VN = 100 |\n",
            "\n",
            "\tTIPO DE FLOR: versicolor\n",
            "\t\tMATRIZ CONFUSÃO\n",
            "\t\t| VP = 50  | FN = 0   |\n",
            "\t\t| FP = 1   | VN = 99  |\n",
            "\n",
            "\tTIPO DE FLOR: virginica\n",
            "\t\tMATRIZ CONFUSÃO\n",
            "\t\t| VP = 49  | FN = 1   |\n",
            "\t\t| FP = 0   | VN = 100 |\n",
            "\n",
            "========================================\n",
            "MODELO: tree02\n",
            "\tTIPO DE FLOR: setosa\n",
            "\t\tMATRIZ CONFUSÃO\n",
            "\t\t| VP = 50  | FN = 0   |\n",
            "\t\t| FP = 0   | VN = 100 |\n",
            "\n",
            "\tTIPO DE FLOR: versicolor\n",
            "\t\tMATRIZ CONFUSÃO\n",
            "\t\t| VP = 49  | FN = 1   |\n",
            "\t\t| FP = 5   | VN = 95  |\n",
            "\n",
            "\tTIPO DE FLOR: virginica\n",
            "\t\tMATRIZ CONFUSÃO\n",
            "\t\t| VP = 45  | FN = 5   |\n",
            "\t\t| FP = 1   | VN = 99  |\n",
            "\n",
            "========================================\n"
          ]
        }
      ]
    },
    {
      "cell_type": "markdown",
      "source": [
        "<p align=\"justify\">&nbsp;&nbsp;&nbsp;&nbsp;Os resultados mostrados acima já revelam as principais características dos modelos. Mas ainda assim serão executadas as outras métricas para uma análise mais detalhada dos mesmos. Na próxima célula é feito o cálculo da acurácia de cada um dos modelos.</p>"
      ],
      "metadata": {
        "id": "Yi05sWOKDLnL"
      }
    },
    {
      "cell_type": "code",
      "source": [
        "for tree in ['tree01', 'tree02']:\n",
        "    print(f'MODELO: {tree}')\n",
        "    for flower in ['setosa', 'versicolor', 'virginica']:\n",
        "        print(f'\\tTIPO DE FLOR: {flower}')\n",
        "        ac = accuracy(confusion_matrices[tree][flower])\n",
        "        print(f'\\t\\tACURÁCIA = {ac:.2f}')\n",
        "        print()\n",
        "    print('='*40)\n"
      ],
      "metadata": {
        "id": "hf4v1fSo0b1l",
        "colab": {
          "base_uri": "https://localhost:8080/"
        },
        "outputId": "c91caa00-ad1e-4cf9-a8d7-830b09728bcc"
      },
      "execution_count": null,
      "outputs": [
        {
          "output_type": "stream",
          "name": "stdout",
          "text": [
            "MODELO: tree01\n",
            "\tTIPO DE FLOR: setosa\n",
            "\t\tACURÁCIA = 1.00\n",
            "\n",
            "\tTIPO DE FLOR: versicolor\n",
            "\t\tACURÁCIA = 0.99\n",
            "\n",
            "\tTIPO DE FLOR: virginica\n",
            "\t\tACURÁCIA = 0.99\n",
            "\n",
            "========================================\n",
            "MODELO: tree02\n",
            "\tTIPO DE FLOR: setosa\n",
            "\t\tACURÁCIA = 1.00\n",
            "\n",
            "\tTIPO DE FLOR: versicolor\n",
            "\t\tACURÁCIA = 0.96\n",
            "\n",
            "\tTIPO DE FLOR: virginica\n",
            "\t\tACURÁCIA = 0.96\n",
            "\n",
            "========================================\n"
          ]
        }
      ]
    },
    {
      "cell_type": "markdown",
      "source": [
        "&nbsp;&nbsp;&nbsp;&nbsp;E finalmente na célula a seguir e efetuado o cálculo da precisão para cada modelo."
      ],
      "metadata": {
        "id": "EL_RvQ6-EUO_"
      }
    },
    {
      "cell_type": "code",
      "source": [
        "for tree in ['tree01', 'tree02']:\n",
        "    print(f'MODELO: {tree}')\n",
        "    for flower in ['setosa', 'versicolor', 'virginica']:\n",
        "        print(f'\\tTIPO DE FLOR: {flower}')\n",
        "        prec = precision(confusion_matrices[tree][flower])\n",
        "        print(f'\\t\\tPRECISÃO = {prec:.2f}')\n",
        "        print()\n",
        "    print('='*40)\n"
      ],
      "metadata": {
        "id": "OCGfBrWruxCY",
        "colab": {
          "base_uri": "https://localhost:8080/"
        },
        "outputId": "5b586b93-5231-47a9-fdff-abc0e8ff4b39"
      },
      "execution_count": null,
      "outputs": [
        {
          "output_type": "stream",
          "name": "stdout",
          "text": [
            "MODELO: tree01\n",
            "\tTIPO DE FLOR: setosa\n",
            "\t\tPRECISÃO = 1.00\n",
            "\n",
            "\tTIPO DE FLOR: versicolor\n",
            "\t\tPRECISÃO = 0.98\n",
            "\n",
            "\tTIPO DE FLOR: virginica\n",
            "\t\tPRECISÃO = 1.00\n",
            "\n",
            "========================================\n",
            "MODELO: tree02\n",
            "\tTIPO DE FLOR: setosa\n",
            "\t\tPRECISÃO = 1.00\n",
            "\n",
            "\tTIPO DE FLOR: versicolor\n",
            "\t\tPRECISÃO = 0.91\n",
            "\n",
            "\tTIPO DE FLOR: virginica\n",
            "\t\tPRECISÃO = 0.98\n",
            "\n",
            "========================================\n"
          ]
        }
      ]
    },
    {
      "cell_type": "markdown",
      "source": [
        "## Conclusão\n",
        "\n",
        "<p align=\"justify\">&nbsp;&nbsp;&nbsp;&nbsp;Em uma avaliação geral ambos os modelos têm um bom desempenho, pois, nas duas métricas de avaliação utilizadas (<strong>acurácia, precisão</strong> ambos obtiveram valores considerados elevados. Porém, a análise detalhada dos resultados revela que o modelo <code>tree01</code>, obteve melhor desempenho que o <code>tree02</code>.</p>\n",
        "<p align=\"justify\">&nbsp;&nbsp;&nbsp;&nbsp;Para as flores do tipo setosa ambos os modelos conseguiram classificar perfeitamente todas as amostras do dataset. Esse resultado deve-se as características únicas deste conjunto de flores, como visto nos gráficos acima. Como as setosas formam um grupo bem distinto das demais flores já era esperado que ambos os modelos tivessem melhor desempenho para este tipo que nos demais casos.</p>\n",
        "<p align=\"justify\">&nbsp;&nbsp;&nbsp;&nbsp;As matrizes de confusão possibilitaram uma compreensão geral dos modelos em estudo. Com elas já se foi possível identificar quais as espécies de flor os modelos têm maior ou menor dificuldade para classificar. Elas mostram que o modelo <code>tree01</code> erra muito menos que a <code>tree02</code> com apenas 1 erro para as classes versicolor e virginica. O modelo <code>tree02</code> têm desempenho ligeiramente menor para classificar as espécies versicolor do que as virginica, o que é confirmado pelas outras métricas de análise utilizadas.</p>\n",
        "<p align=\"justify\">&nbsp;&nbsp;&nbsp;&nbsp;A métricas acurácia e precisão fornecem uma avaliação mais objetiva dos modelos já que são apenas um único valor. Para ambas as métricas quanto mais próximas de 1 estiverem melhor será o desempenho do modelo. Ambos os modelos têm a mesma precisão para a identificação das flores setosa. Porém esta métrica sozinha não é suficiente para avaliar o modelo, pois, como visto nas matrizes confusão a quantidade de erros e acertos para cada modelo foi diferente. Isto mostra que a precisão avalia apenas a proporção entre acertos e erros do modelo. Por sua vez a acurácia mostra que a <code>tree01</code> teve desempenho superior que a <code>tree02</code> para as flores versicolor e virginica.</p>\n",
        "<p align=\"justify\">&nbsp;&nbsp;&nbsp;&nbsp;Por fim, a <code>tree01</code>, considerando-se todas as métricas avaliadas, é o melhor modelo para classificação das flores. Porém, o modelo <code>tree02</code> mesmo sendo o mais simples de ser implementado também obteve bons resultados. Considerando-se as métricas avaliadas a espécie de flor que os modelos tiveram maior dificuldade de implementar foi a <strong>versicolor</strong>. Mas ainda cabe uma ressalva sobre a <code>tree01</code> pois a alta taxa de acertos da mesma pode ser um sinal de overfitting indicando que o modelo está sobre ajustado à base de treino.</p>"
      ],
      "metadata": {
        "id": "Xna5rg33ExMX"
      }
    },
    {
      "cell_type": "code",
      "source": [
        ""
      ],
      "metadata": {
        "id": "cDX-F9_2yIhP"
      },
      "execution_count": null,
      "outputs": []
    }
  ]
}