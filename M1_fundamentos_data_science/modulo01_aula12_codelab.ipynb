{
  "nbformat": 4,
  "nbformat_minor": 0,
  "metadata": {
    "colab": {
      "name": "aula12_codelab.ipynb",
      "provenance": [],
      "authorship_tag": "ABX9TyO2mWVIOGw4wwaxCPhDfmHM",
      "include_colab_link": true
    },
    "kernelspec": {
      "name": "python3",
      "display_name": "Python 3"
    },
    "language_info": {
      "name": "python"
    }
  },
  "cells": [
    {
      "cell_type": "markdown",
      "metadata": {
        "id": "view-in-github",
        "colab_type": "text"
      },
      "source": [
        "<a href=\"https://colab.research.google.com/github/duartejr/blue_edtech/blob/master/M1/aula12_codelab.ipynb\" target=\"_parent\"><img src=\"https://colab.research.google.com/assets/colab-badge.svg\" alt=\"Open In Colab\"/></a>"
      ]
    },
    {
      "cell_type": "markdown",
      "source": [
        "# Aula 12 - [CODELAB] Introdução ao Python - Parte 1\n",
        "\n",
        "## Conteúdos\n",
        "* Operações com números\n",
        "* Strings\n",
        "* Condicional"
      ],
      "metadata": {
        "id": "ycour_TQxQwY"
      }
    },
    {
      "cell_type": "markdown",
      "source": [
        "## Operações com números\n",
        "\n",
        "1. Existe uma ordem de operação dos números em Python, primeiro se calculam os parênteses, depois exponenciação, multiplicação e divisão, por fim, da esquerda para a direita se operam adições e subtrações. Execute e veja a diferença entre os dois códigos a seguir:"
      ],
      "metadata": {
        "id": "1WvQ19NhxMVY"
      }
    },
    {
      "cell_type": "code",
      "execution_count": null,
      "metadata": {
        "id": "RFjoG2VJw0Qu"
      },
      "outputs": [],
      "source": [
        ""
      ]
    },
    {
      "cell_type": "markdown",
      "source": [
        "2. Aproveitando o desafio da Calculadora quebrada tente os seguintes desafios:"
      ],
      "metadata": {
        "id": "iK2pWTaLx2Ei"
      }
    },
    {
      "cell_type": "markdown",
      "source": [
        "2.1 Usando os números 2 ou 3 e as operações + ou *, exiba os números 6, 7, 8, 10, 12, 15, 20, e 50. Por exemplo, 6 é o resultado de 2 + 2 + 2, ou 2 * 3, agora faça para os outros números."
      ],
      "metadata": {
        "id": "RPV8QhNEyH0u"
      }
    },
    {
      "cell_type": "code",
      "source": [
        ""
      ],
      "metadata": {
        "id": "ofqG8Ys8xfLg"
      },
      "execution_count": null,
      "outputs": []
    },
    {
      "cell_type": "markdown",
      "source": [
        "2.2 Usando os números 2 ou 5, as operações - ou * e os parênteses, exiba os números -10, 1, 3, 10, 24, 32, 100, 625"
      ],
      "metadata": {
        "id": "N2oXQ7HSyZoU"
      }
    },
    {
      "cell_type": "code",
      "source": [
        ""
      ],
      "metadata": {
        "id": "mbz6QQtPykue"
      },
      "execution_count": null,
      "outputs": []
    },
    {
      "cell_type": "markdown",
      "source": [
        "2.3 Usando os número 0, 1 ou 2, as operações / ou * e os parênteses exiba os números 3, 4, 5, 6, 7, 8, 9, 10."
      ],
      "metadata": {
        "id": "GOnspgjwylYm"
      }
    },
    {
      "cell_type": "code",
      "source": [
        ""
      ],
      "metadata": {
        "id": "u_V7qrWkytR4"
      },
      "execution_count": null,
      "outputs": []
    },
    {
      "cell_type": "markdown",
      "source": [
        "3. Note que outras operações como a raiz quadrada não estão disponíveis no básico do Python, para isso é necessário trazer um \"complemento\", ou melhor dizendo, uma biblioteca.\n",
        "\n",
        "As bibliotecas são conjuntos de funções que pessoas reuniram em um lugar só e disponibilizaram pra outras pessoas não terem que programar aquilo novamente, por exemplo os algortmos vistos no Orange, alguém programou a Árvore de Decisão, ou a Regressão Linear, porém no Orange tem um recurso visual e no Python não.\n",
        "Uma biblioteca que será trabalhada é o math e para ser incluída na nossa programação em Python, use o comando a seguir:\n",
        "\n",
        "`import math`\n",
        "\n",
        "Para mais detalhes sobre a biblioteca, vea a documentação da blbioteca math.\n",
        "Use a biblioteca math para:\n",
        "\n",
        "3.1 Descobrir o valor do número especial (nem_especial) e a lógica do comando math.ceil:"
      ],
      "metadata": {
        "id": "UDRe2jGzyuFq"
      }
    },
    {
      "cell_type": "code",
      "source": [
        "import math\n",
        "num = 2.3\n",
        "num_especial = math.ceil(num)\n",
        "print(num_especial)"
      ],
      "metadata": {
        "colab": {
          "base_uri": "https://localhost:8080/"
        },
        "id": "on9HPRRfzl9s",
        "outputId": "6a2d3829-3351-48b9-f6da-577c4ebf266d"
      },
      "execution_count": null,
      "outputs": [
        {
          "output_type": "stream",
          "name": "stdout",
          "text": [
            "3\n"
          ]
        }
      ]
    },
    {
      "cell_type": "markdown",
      "source": [
        "3.2 Faça o mesmo que o código anterior, mas com a função `math.floor(num_especial)`. Procure também entender o que é `ceil` e `floor`, em inglês.\n"
      ],
      "metadata": {
        "id": "DdC10GlMzxHU"
      }
    },
    {
      "cell_type": "code",
      "source": [
        ""
      ],
      "metadata": {
        "id": "mFow7w3U0DNP"
      },
      "execution_count": null,
      "outputs": []
    },
    {
      "cell_type": "markdown",
      "source": [
        "3.3 Veja como utilizar a raiz quadra e exiba as raízes quadradas de 1, 4, 9, 16, 25, 36, 49, 64, 81 e 100."
      ],
      "metadata": {
        "id": "Xz1hqI1v0Dwr"
      }
    },
    {
      "cell_type": "code",
      "source": [
        ""
      ],
      "metadata": {
        "id": "kUPzMwgY0Oqz"
      },
      "execution_count": null,
      "outputs": []
    },
    {
      "cell_type": "markdown",
      "source": [
        "4. A constante matemática `pi` faz parte do dia a dia dos estudantes da escola básica, veja como exibir aproximações delas disponíveis na biblioteca `math` com o seguinte código:\n",
        "``` \n",
        "pi = math.pi\n",
        "```\n",
        "Qual a diferença entre a variável `pi`do código acima e o `novo_pi` do código abaixo?\n",
        "```\n",
        "novo_pi = 4 * math.atan(1)\n",
        "```\n",
        "Aproveite e veja a diferença entre os seguintes códigos:\n",
        "\n"
      ],
      "metadata": {
        "id": "HpYqKltD0PdP"
      }
    },
    {
      "cell_type": "code",
      "source": [
        "import math\n",
        "pi = math.pi\n",
        "novo_pi = 4 * math.atan(1)\n",
        "\n",
        "print(\"Variáveis como definidas\")\n",
        "print(pi)\n",
        "print(novo_pi)\n",
        "\n",
        "print(\"Variáveis alteradas\")\n",
        "print(f\"{pi:.2f}\")\n",
        "print(f\"{novo_pi:.2f}\")\n",
        "\n",
        "# mude 0 número .2 para outros valores e veja o que acontece\n"
      ],
      "metadata": {
        "colab": {
          "base_uri": "https://localhost:8080/"
        },
        "id": "Ok3SmAWp1W_L",
        "outputId": "c157d70e-b767-4076-c93d-a277a3f8a56e"
      },
      "execution_count": null,
      "outputs": [
        {
          "output_type": "stream",
          "name": "stdout",
          "text": [
            "Variáveis como definidas\n",
            "3.141592653589793\n",
            "3.141592653589793\n",
            "Variáveis alteradas\n",
            "3.14\n",
            "3.14\n"
          ]
        }
      ]
    },
    {
      "cell_type": "markdown",
      "source": [
        "4.1 Utilize a biblioteca `random` e teste os seguintes códigos, verificando o que cada um faz:"
      ],
      "metadata": {
        "id": "PXmpVxwz1-N6"
      }
    },
    {
      "cell_type": "code",
      "source": [
        "import random\n",
        "\n",
        "random.randrange(stop) # substitua a palavra stop por um número\n",
        "random.randrange(start, stop, step) # substitua as palavras start, stop e step por um número\n",
        "random.randint(a, b) # substitua as letras a e b por números\n",
        "# veja o que acontece nos casos acima\n",
        "\n",
        "print(random.sample([1, 2, 3, 4, 5], 3))"
      ],
      "metadata": {
        "colab": {
          "base_uri": "https://localhost:8080/",
          "height": 252
        },
        "id": "fShWuGz-17sa",
        "outputId": "6f5780e7-952e-4099-c78c-24a0e388ce57"
      },
      "execution_count": null,
      "outputs": [
        {
          "output_type": "error",
          "ename": "NameError",
          "evalue": "ignored",
          "traceback": [
            "\u001b[0;31m---------------------------------------------------------------------------\u001b[0m",
            "\u001b[0;31mNameError\u001b[0m                                 Traceback (most recent call last)",
            "\u001b[0;32m<ipython-input-4-fb9a7c9641ad>\u001b[0m in \u001b[0;36m<module>\u001b[0;34m()\u001b[0m\n\u001b[1;32m      1\u001b[0m \u001b[0;32mimport\u001b[0m \u001b[0mrandom\u001b[0m\u001b[0;34m\u001b[0m\u001b[0;34m\u001b[0m\u001b[0m\n\u001b[1;32m      2\u001b[0m \u001b[0;34m\u001b[0m\u001b[0m\n\u001b[0;32m----> 3\u001b[0;31m \u001b[0mrandom\u001b[0m\u001b[0;34m.\u001b[0m\u001b[0mrandrange\u001b[0m\u001b[0;34m(\u001b[0m\u001b[0mstop\u001b[0m\u001b[0;34m)\u001b[0m \u001b[0;31m# substitua a palavra stop por um número\u001b[0m\u001b[0;34m\u001b[0m\u001b[0;34m\u001b[0m\u001b[0m\n\u001b[0m\u001b[1;32m      4\u001b[0m \u001b[0mrandom\u001b[0m\u001b[0;34m.\u001b[0m\u001b[0mrandrange\u001b[0m\u001b[0;34m(\u001b[0m\u001b[0mstart\u001b[0m\u001b[0;34m,\u001b[0m \u001b[0mstop\u001b[0m\u001b[0;34m,\u001b[0m \u001b[0mstep\u001b[0m\u001b[0;34m)\u001b[0m \u001b[0;31m# substitua as palavras start, stop e step por um número\u001b[0m\u001b[0;34m\u001b[0m\u001b[0;34m\u001b[0m\u001b[0m\n\u001b[1;32m      5\u001b[0m \u001b[0mrandom\u001b[0m\u001b[0;34m.\u001b[0m\u001b[0mrandint\u001b[0m\u001b[0;34m(\u001b[0m\u001b[0ma\u001b[0m\u001b[0;34m,\u001b[0m \u001b[0mb\u001b[0m\u001b[0;34m)\u001b[0m \u001b[0;31m# substitua as letras a e b por números\u001b[0m\u001b[0;34m\u001b[0m\u001b[0;34m\u001b[0m\u001b[0m\n",
            "\u001b[0;31mNameError\u001b[0m: name 'stop' is not defined"
          ]
        }
      ]
    },
    {
      "cell_type": "markdown",
      "source": [
        "4.2 Por último, peça ao usuário para digitar dois números `num1` e `num2` e exiba os seguintes resultados:\n",
        "* num1 + num2\n",
        "* num1 - num2\n",
        "* num1 * num2\n",
        "* num1 / num2\n",
        "* num1 ** num2\n",
        "* num1 % num2\n",
        "* Exiba qual dos dois é maior\n"
      ],
      "metadata": {
        "id": "Cz4vEGPS2jkx"
      }
    },
    {
      "cell_type": "code",
      "source": [
        ""
      ],
      "metadata": {
        "id": "vJMmbuEc274a"
      },
      "execution_count": null,
      "outputs": []
    },
    {
      "cell_type": "markdown",
      "source": [
        "5. Se você só pediro os valore do `input` para o usuário, será apresentao a mensage de erro, por isso, utilize o `parse` (nome da operação que transforma tipos de variàveis) da seguinte forma:\n",
        "```\n",
        "num 1 = int(input(\"Digite o primeiro númeo: \"))\n",
        "num 2 = int(input(\"Digite o segundo número: \"))\n",
        "```\n",
        "Pesquise também como converter a entrada do usuário para `float`."
      ],
      "metadata": {
        "id": "rWRB5wF329K8"
      }
    },
    {
      "cell_type": "markdown",
      "source": [
        "## Strings"
      ],
      "metadata": {
        "id": "haf2O3jV3bUe"
      }
    },
    {
      "cell_type": "markdown",
      "source": [
        "1. Peça ao usuário um nome e exiba na tela uma palavra com a primeira letra, a letra do meio e a última. Por exemplo, com o nome `Jonas`, o resultado deve ser a string `Jns`."
      ],
      "metadata": {
        "id": "7ndivaY13dml"
      }
    },
    {
      "cell_type": "code",
      "source": [
        ""
      ],
      "metadata": {
        "id": "C4q3Mvz03aMl"
      },
      "execution_count": null,
      "outputs": []
    },
    {
      "cell_type": "markdown",
      "source": [
        "2. Peça ao usuário o nome de um familiar e o grau de parentesco. Exiba na tela o grau de parentesco e o nome da pessoa. Por exemplo, Judite e Tia devem retornar Tia Judite."
      ],
      "metadata": {
        "id": "HfxM0W423s_K"
      }
    },
    {
      "cell_type": "code",
      "source": [
        ""
      ],
      "metadata": {
        "id": "qGua08JO3yU7"
      },
      "execution_count": null,
      "outputs": []
    },
    {
      "cell_type": "markdown",
      "source": [
        "3. Faça um contador de palavras, peça ao usuário um texto e exiba na tela quantas palavras tem no texto. Faça o mesmo para as letras."
      ],
      "metadata": {
        "id": "FYs3Fmb43yw3"
      }
    },
    {
      "cell_type": "code",
      "source": [
        ""
      ],
      "metadata": {
        "id": "Q3px1mRI30bP"
      },
      "execution_count": null,
      "outputs": []
    },
    {
      "cell_type": "markdown",
      "source": [
        "4. Faça um programa que verifica se uma `string` é parte de outra, retorne `True` se sim e `False` caso contrário. O programa não deve ser sensível a letras maiúsculas, ou minúsculas. Por exemplo as duas `strings casa` e no `fim da rua tem uma casa` devem retornar `True`, agora a palavra `bola` e a frase no `fim da rua tem uma casa` deve retornar `False`."
      ],
      "metadata": {
        "id": "BNRGq3vM31f4"
      }
    },
    {
      "cell_type": "code",
      "source": [
        ""
      ],
      "metadata": {
        "id": "ve9It8EI4Lah"
      },
      "execution_count": null,
      "outputs": []
    },
    {
      "cell_type": "markdown",
      "source": [
        "5. Peça uma palavra ao usuário e verifique se há um número na palavra, depois verifique se ele está na primeira, ou última posição. Caso esteja entre os extremos você ainda não tem meios para fazer isso, mas terá depois de aprender os laços de repetição."
      ],
      "metadata": {
        "id": "D_ufwqyk4MTX"
      }
    },
    {
      "cell_type": "code",
      "source": [
        ""
      ],
      "metadata": {
        "id": "kxwI-bUl4PKH"
      },
      "execution_count": null,
      "outputs": []
    },
    {
      "cell_type": "markdown",
      "source": [
        "6. Pesquise sobre a técnica `slice`. Peça ao usuário um texto e um número, devolva as primeiras letras que equivalem ao número fornecido, por exemplo a palavra `casa` e o número `3`, o resultado será `cas`. Caso a quantidade de letra seja menor do que o número fornecido, informe uma mensagem de erro."
      ],
      "metadata": {
        "id": "vw4osU4W4SfT"
      }
    },
    {
      "cell_type": "code",
      "source": [
        ""
      ],
      "metadata": {
        "id": "T10h5fD-4cg4"
      },
      "execution_count": null,
      "outputs": []
    },
    {
      "cell_type": "markdown",
      "source": [
        "7. Utilize o método `re.sub()` para substituir caracteres especiais (`! ? @ , . -`) de um texto por espaços vazios, por exemplo o texto `Es@te t-exto!! t?em? c.a.r.a.c.t.e.r.e.s. e,,,speciais` deve retornar `Este texto tem caracteres especiais`."
      ],
      "metadata": {
        "id": "Idtc4di04dHZ"
      }
    },
    {
      "cell_type": "code",
      "source": [
        ""
      ],
      "metadata": {
        "id": "NfmIfOZe4nWX"
      },
      "execution_count": null,
      "outputs": []
    },
    {
      "cell_type": "markdown",
      "source": [
        "8. Peça a um usuário o nome e o ano de nascimento no formato aaaa.\n",
        "* Caso o nome esteja vazio, exiba uma mensagem de erro.\n",
        "* Caso o nome possua números, exiba uma mensagem de erro.\n",
        "* Caso o ano seja `2010` e o usuário só digitou `10`, informe que o ano deve ser no formato `aaaa`.\n",
        "* Caso tudo esteja correto, devolva uma senha formada pelos dois últimos dígitos do ano seguidos das duas primeiras letras do nome do usuário, mais os primeiros dois dígitos do ano, seguido pelo restante do nome do usuário.\n",
        "  * Por exemplo, o nome `Astolfo` e o ano `2003` devem resultar na senha `03As20tolfo`."
      ],
      "metadata": {
        "id": "-KHIOjue4pVD"
      }
    },
    {
      "cell_type": "code",
      "source": [
        ""
      ],
      "metadata": {
        "id": "VQz8AMya5BEq"
      },
      "execution_count": null,
      "outputs": []
    },
    {
      "cell_type": "markdown",
      "source": [
        "9. Faça um programa no qual o usuário digita um texto de 6 caracteres, caso seja maior, menor do que isso, ou vazio, deve retornar uma mensagem de erro. Caso contrário uma lista aparecerá enumerando a posição de cada caractere. No caso de Wesley o resultado deve ser:\n",
        "* A primeira letra é W\n",
        "* A segunda letra é e\n",
        "* A terceira letra é s\n",
        "* A quarta letra é l\n",
        "* A quinta letra é e\n",
        "* A sexta letra é y"
      ],
      "metadata": {
        "id": "as8WFPdc5C7M"
      }
    },
    {
      "cell_type": "code",
      "source": [
        ""
      ],
      "metadata": {
        "id": "2C6tyfZN5JY3"
      },
      "execution_count": null,
      "outputs": []
    },
    {
      "cell_type": "markdown",
      "source": [
        "## Condicional"
      ],
      "metadata": {
        "id": "MhBU1D8v5LCQ"
      }
    },
    {
      "cell_type": "markdown",
      "source": [
        "1. Faça um programa que verifique se um número é par, ou ímpar"
      ],
      "metadata": {
        "id": "n4RMZ2tk5NMb"
      }
    },
    {
      "cell_type": "code",
      "source": [
        ""
      ],
      "metadata": {
        "id": "BcBLLo875PxK"
      },
      "execution_count": null,
      "outputs": []
    },
    {
      "cell_type": "markdown",
      "source": [
        "2. Faça um programa que verifique se um número que verifique se um número é positivo, negativo, ou zero"
      ],
      "metadata": {
        "id": "NZ2g7kGF5QaD"
      }
    },
    {
      "cell_type": "code",
      "source": [
        ""
      ],
      "metadata": {
        "id": "6IA2vNOB5SCz"
      },
      "execution_count": null,
      "outputs": []
    },
    {
      "cell_type": "markdown",
      "source": [
        "3. Faça um programa que verifique se um número é um número inteiro, ou se possui parte decimal. Por exemplo, o número 2 é um número inteiro, mas 2.3 possui parte decimal."
      ],
      "metadata": {
        "id": "RXSg1beK5S9P"
      }
    },
    {
      "cell_type": "code",
      "source": [
        ""
      ],
      "metadata": {
        "id": "rlYOSPb35V6i"
      },
      "execution_count": null,
      "outputs": []
    },
    {
      "cell_type": "markdown",
      "source": [
        "4. Faça o mesmo programa que o anterior, de forma que a parte decimal deve ser diferente de 0, sendo que no caso de 2 ainda retorne um número inteiro e 2.0 também, mas caso seja 2.1 então é um número com parte decimal diferente de 0."
      ],
      "metadata": {
        "id": "wwG-r9uB5Wve"
      }
    },
    {
      "cell_type": "code",
      "source": [
        ""
      ],
      "metadata": {
        "id": "FR_mQUgC5Y8p"
      },
      "execution_count": null,
      "outputs": []
    },
    {
      "cell_type": "markdown",
      "source": [
        "5. Faça um programa que peça a altura em metros e o peso em kg de uma pessoa e a classifique dentro da escala de Índice de Massa Corpórea."
      ],
      "metadata": {
        "id": "RXuZ46Zo5Z93"
      }
    },
    {
      "cell_type": "code",
      "source": [
        ""
      ],
      "metadata": {
        "id": "CT_iQ0jK5cvV"
      },
      "execution_count": null,
      "outputs": []
    },
    {
      "cell_type": "markdown",
      "source": [
        "6. Peça três números a um usuário e verifique se eles podem ser os lados de um triângulo.\n",
        "* Obs.: Dados 3 números, eles poderão ser as medida de um triângulo se a soma de quaisquer dois é maior do que o terceiro valor.\n",
        "* Por exemplo, os números 1, 1, 3 não formam um triângulo, porque 1 + 1 = 2 e 2 < 3.\n",
        "* Já os números 3, 4, 5 formam um triângulo, pois a soma de quaisquer dois números supera o terceiro."
      ],
      "metadata": {
        "id": "KJq94PVZ5dTt"
      }
    },
    {
      "cell_type": "code",
      "source": [
        ""
      ],
      "metadata": {
        "id": "PTI4C-hs5k2R"
      },
      "execution_count": null,
      "outputs": []
    },
    {
      "cell_type": "markdown",
      "source": [
        "7. Acrescente no programa do exercício anterior um trecho que defina se um triângulo é equilátero (todos os lados de mesma medida), isóceles (dois lados de medidas iguais e um de medida diferente), ou escaleno (três lados com medidas distintas)."
      ],
      "metadata": {
        "id": "lFPOxlIl5lbj"
      }
    },
    {
      "cell_type": "code",
      "source": [
        ""
      ],
      "metadata": {
        "id": "TLDKI5sL5nSD"
      },
      "execution_count": null,
      "outputs": []
    },
    {
      "cell_type": "markdown",
      "source": [
        "8. Melhore o programa anterior com os operadores and e or para verificar mais de uma condição na mesma linha da condicional."
      ],
      "metadata": {
        "id": "obZWJ8WL5pKh"
      }
    },
    {
      "cell_type": "code",
      "source": [
        ""
      ],
      "metadata": {
        "id": "ffVZAz0R5p5b"
      },
      "execution_count": null,
      "outputs": []
    },
    {
      "cell_type": "markdown",
      "source": [
        "9. Faça um programa para o usuário apostar cara, ou coroa e o programa deve exibir o resultado do lançamento da moeda e se a pessoa acertou."
      ],
      "metadata": {
        "id": "kk0a_YRd5r_R"
      }
    },
    {
      "cell_type": "code",
      "source": [
        ""
      ],
      "metadata": {
        "id": "nvtqs_Zl5soj"
      },
      "execution_count": null,
      "outputs": []
    },
    {
      "cell_type": "markdown",
      "source": [
        "10. Faça um programa que peça três números, organize-os em três variáveis num1, num2 e num3, tal que valha a relação num1 <= num2 e num2 <= num3. Armazene em variáveis os valores da média simples, mediana, mínimo e máximo dos números. Exiba na tela essas 4 variáveis em ordem crescente, com a mensagem do que cada número significa. Por exemplo, se o usuário digitar 2, 2, 8, então o programa mostrará a mensagem:\n",
        "* O mínimo é 2\n",
        "* A mediana é 2\n",
        "* A média é 4\n",
        "* O máximo é 8"
      ],
      "metadata": {
        "id": "f689MTa15tIN"
      }
    },
    {
      "cell_type": "code",
      "source": [
        ""
      ],
      "metadata": {
        "id": "GgjQ-y8U5yxi"
      },
      "execution_count": null,
      "outputs": []
    },
    {
      "cell_type": "markdown",
      "source": [
        "11. Observação sobre o exercício anterior, não calcule os quartis, porque são poucos dados e essas medidas podem não ser representativas. O exercício anterior só tem o objetivo de praticar conceitos básicos de lógica de programação. Ao ter uma base de dados com pelo menos 20 observações, há a possibilidade de calcular as medidas estatísticas abordadas nas primeiras aulas com Orange, como o mínimo, máximo, média, mediana e quartis."
      ],
      "metadata": {
        "id": "lK-J3Xon51dy"
      }
    },
    {
      "cell_type": "code",
      "source": [
        ""
      ],
      "metadata": {
        "id": "hjsFcof555Nd"
      },
      "execution_count": null,
      "outputs": []
    },
    {
      "cell_type": "markdown",
      "source": [
        "12. Faça um programa que sorteia um número entre 1 e 9, e o usuário entra com um número. Caso o número do usuário seja do tipo float, menor do que 1, ou maior do que 9 o programa retorna uma mensagem de erro. Caso contrário o programa diz se o usuário acertou, ou não o palpite."
      ],
      "metadata": {
        "id": "3mFHXOhG51Xp"
      }
    },
    {
      "cell_type": "code",
      "source": [
        ""
      ],
      "metadata": {
        "id": "hPbQYz_058M0"
      },
      "execution_count": null,
      "outputs": []
    },
    {
      "cell_type": "markdown",
      "source": [
        "13. Como seria um programa para o cálculo da conta de luz? E da conta de água? O que você pediria para o usuário digitar? Faça o programa baseado no cálculo referente a sua cidade."
      ],
      "metadata": {
        "id": "eDpx2h9Z58_G"
      }
    },
    {
      "cell_type": "code",
      "source": [
        ""
      ],
      "metadata": {
        "id": "Pke3iz1w5-2I"
      },
      "execution_count": null,
      "outputs": []
    },
    {
      "cell_type": "markdown",
      "source": [
        "14. Se num programa é pedido o ano de nascimento, mas é oferecido um ano absurdo, como tratar esse caso? Faça um programa e peça o ano de nascimento do usuário, depois exiba a idade que ele terá em 2022. Exiba mensagens de erro para os casos de ser oferecido um valor vazio, letras, ou um valor absurdo."
      ],
      "metadata": {
        "id": "V1rm0_1E5_gx"
      }
    },
    {
      "cell_type": "code",
      "source": [
        ""
      ],
      "metadata": {
        "id": "9TPmevGj6FJf"
      },
      "execution_count": null,
      "outputs": []
    }
  ]
}
