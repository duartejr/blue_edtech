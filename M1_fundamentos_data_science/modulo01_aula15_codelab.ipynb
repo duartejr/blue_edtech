{
  "nbformat": 4,
  "nbformat_minor": 0,
  "metadata": {
    "colab": {
      "name": "modulo01_aula15_codelab.ipynb",
      "provenance": [],
      "collapsed_sections": [],
      "authorship_tag": "ABX9TyPy/qpla+TLhGZKbo6C8IYm",
      "include_colab_link": true
    },
    "kernelspec": {
      "name": "python3",
      "display_name": "Python 3"
    },
    "language_info": {
      "name": "python"
    }
  },
  "cells": [
    {
      "cell_type": "markdown",
      "metadata": {
        "id": "view-in-github",
        "colab_type": "text"
      },
      "source": [
        "<a href=\"https://colab.research.google.com/github/duartejr/blue_edtech/blob/master/M1/modulo01_aula15_codelab.ipynb\" target=\"_parent\"><img src=\"https://colab.research.google.com/assets/colab-badge.svg\" alt=\"Open In Colab\"/></a>"
      ]
    },
    {
      "cell_type": "markdown",
      "source": [
        "# Aula 15b - [CODELAB] Introdução ao Python - Parte 3"
      ],
      "metadata": {
        "id": "7r_GXvV6LnvB"
      }
    },
    {
      "cell_type": "markdown",
      "source": [
        "## Questão da aula 15"
      ],
      "metadata": {
        "id": "NVRFS17pWUUt"
      }
    },
    {
      "cell_type": "code",
      "source": [
        "musicas = [\n",
        "['Open','Yellow Claw',0.522,0.8600],\n",
        "['Outlines','AlunaGeorge',0.741,0.4490],\n",
        "['Step','Vampire Weekend',0.624,0.7240],\n",
        "['Dont Threaten Me With A Good Time','Panic! At The Disco',0.559,0.8950],\n",
        "['Kissing Strangers','DNCE',0.776,0.7410],\n",
        "['Satellite','SALTNPAPER',0.385,0.4040],\n",
        "['The Devils Den','Skrillex',0.616,0.9460],\n",
        "['Sleepwalk','Santo & Johnny',0.444,0.4120],\n",
        "['We Dem Boyz','Wiz Khalifa',0.717,0.8620],\n",
        "['Pyramids','Frank Ocean',0.405,0.6470],\n",
        "['Hannah Hunt','Vampire Weekend',0.345,0.3130],\n",
        "['Save the World','Swedish House Mafia',0.654,0.7340],\n",
        "['Im in LOVE With GO-GO Dance','Trendsetter',0.510,0.6030],\n",
        "['Spacer Woman - Vocal','Charlie',0.742,0.9650],\n",
        "['Where or When','Wynton Marsalis',0.326,0.0575],\n",
        "['dance alot','Various Artists',0.466,0.9430],\n",
        "['GOT IT GOOD','KAYTRANADA',0.606,0.5030],\n",
        "['Agadoo - original','Black Lace',0.618,0.9600],\n",
        "['Truths & Rights','Johnny Osbourne',0.770,0.4090],\n",
        "['White Iverson','Post Malone',0.676,0.5280]\n",
        "]"
      ],
      "metadata": {
        "id": "NdtmFZQuWjQJ"
      },
      "execution_count": null,
      "outputs": []
    },
    {
      "cell_type": "code",
      "source": [
        "from math import sqrt\n",
        "\n",
        "def calculo_distancia(dancabilidade, energia):\n",
        "  return sqrt((dancabilidade)**2 + (energia)**2)"
      ],
      "metadata": {
        "id": "vHpbSx-aYTFb"
      },
      "execution_count": null,
      "outputs": []
    },
    {
      "cell_type": "code",
      "source": [
        "distancia = []\n",
        "for musica in musicas:\n",
        "  distancia.append(calculo_distancia(musica[2], musica[3]))\n",
        "print(distancia)"
      ],
      "metadata": {
        "colab": {
          "base_uri": "https://localhost:8080/"
        },
        "id": "KXntk2QOYU46",
        "outputId": "c530595f-b9d8-4bc5-ca84-9166cbab0f2d"
      },
      "execution_count": null,
      "outputs": [
        {
          "output_type": "stream",
          "name": "stdout",
          "text": [
            "[1.006023856575976, 0.866419067195546, 0.955799142079548, 1.0552279374618547, 1.0729664486832755, 0.5580689921506121, 1.12888086173874, 0.6057061994069401, 1.1212194254471333, 0.7633046573944117, 0.46582614782770615, 0.9830930779941439, 0.7897524928735584, 1.2172875584675955, 0.3310320981415549, 1.0518578801340037, 0.7875563471904724, 1.1417197554566532, 0.8718835931476174, 0.8577645364550811]\n"
          ]
        }
      ]
    },
    {
      "cell_type": "code",
      "source": [
        "max(distancia), min(distancia)"
      ],
      "metadata": {
        "colab": {
          "base_uri": "https://localhost:8080/"
        },
        "id": "vuLcjCyWY_TN",
        "outputId": "d4e7564e-793c-480c-ae9d-66c81d68ec1b"
      },
      "execution_count": null,
      "outputs": [
        {
          "output_type": "execute_result",
          "data": {
            "text/plain": [
              "(1.2172875584675955, 0.3310320981415549)"
            ]
          },
          "metadata": {},
          "execution_count": 60
        }
      ]
    },
    {
      "cell_type": "code",
      "source": [
        "pos_mais_animada = distancia.index(max(distancia))\n",
        "pos_menos_animada = distancia.index(min(distancia))\n",
        "\n",
        "print(pos_mais_animada, pos_menos_animada)"
      ],
      "metadata": {
        "colab": {
          "base_uri": "https://localhost:8080/"
        },
        "id": "ipbrHdxuZTtc",
        "outputId": "5f9db5fc-ae55-490d-8c26-21407e9a6113"
      },
      "execution_count": null,
      "outputs": [
        {
          "output_type": "stream",
          "name": "stdout",
          "text": [
            "13 14\n"
          ]
        }
      ]
    },
    {
      "cell_type": "code",
      "source": [
        "print(f'A musica mais alegre e dançante é {musicas[pos_mais_animada][0]}, {musicas[pos_mais_animada][1]}')\n",
        "print(f'A musica menos alegre e dançante é {musicas[pos_menos_animada][0]}, {musicas[pos_menos_animada][1]}')"
      ],
      "metadata": {
        "colab": {
          "base_uri": "https://localhost:8080/"
        },
        "id": "uV6hhpyDWT4h",
        "outputId": "98e14caa-17d3-45c9-92d5-5b9a9308de6f"
      },
      "execution_count": null,
      "outputs": [
        {
          "output_type": "stream",
          "name": "stdout",
          "text": [
            "A musica mais alegre e dançante é Spacer Woman - Vocal, Charlie\n",
            "A musica menos alegre e dançante é Where or When, Wynton Marsalis\n"
          ]
        }
      ]
    },
    {
      "cell_type": "markdown",
      "source": [
        "1. Retome o exercício do Code Lab anterior sobre números com 3, 4 e 5 dígitos, quando cada dígito é elevado a alguma potência e depois todos são somados, eles resultam no próprio número. Agora é a hora de generalizar o exercício. Crie uma programa que dado um valor \"n\" oferecido pelo usuário (n>=1), o programa exibe todos os números com \"n\" dígitos, que os dígitos elevados a \"n\" e depois somados resultam no próprio valor.\n",
        "\n",
        "   Você pode começar criando uma função que recebe o valor \"n\" do usuário e ela prepara o menor valor e o maior valor para a função percorrer. Por exemplo, se n=3, então a função define que o menorNum = 100 e o maiorNum = 999, para isso basta utilizar as potências de 10 elevado a n-1 (para menorNum) e n (para maiorNum)."
      ],
      "metadata": {
        "id": "qF2Fyc3qMMgC"
      }
    },
    {
      "cell_type": "code",
      "execution_count": null,
      "metadata": {
        "id": "FCppWeURLX3z"
      },
      "outputs": [],
      "source": [
        "def is_armstrong(n):\n",
        "    \"\"\"Checa se n é um número de Armstrong.\n",
        "\n",
        "    Args:\n",
        "        n (str): número a ser checado\n",
        "\n",
        "    Returns:\n",
        "        bool: True se o número for de Armstrong e False caso contrário\n",
        "    \"\"\"\n",
        "    if sum([int(i)**len(n) for i in n]) == int(n):\n",
        "        return True\n",
        "    else:\n",
        "        return False\n",
        "\n",
        "\n",
        "def list_armstrong(n):\n",
        "    \"\"\"Retorna todos números de Armstrong com n digitos.\n",
        "\n",
        "    Args:\n",
        "        n (int): número de digitos do número de Armstrong\n",
        "\n",
        "    Returns:\n",
        "        list: Lista dos números de Armstrong com n digitos\n",
        "    \"\"\"\n",
        "    if n < 1:\n",
        "        raise Exception('n precisa ser maior ou igual a um.')\n",
        "    \n",
        "    start = 10**(n - 1)\n",
        "    end = 10**n\n",
        "    numbers = []\n",
        "\n",
        "    for i in range(start, end):\n",
        "        if is_armstrong(str(i)):\n",
        "            numbers.append(i)\n",
        "    \n",
        "    return numbers\n"
      ]
    },
    {
      "cell_type": "code",
      "source": [
        "for i in range(1, 5):\n",
        "    print(list_armstrong(i))"
      ],
      "metadata": {
        "colab": {
          "base_uri": "https://localhost:8080/"
        },
        "id": "eNGiMcSANZQb",
        "outputId": "c9b4a9ca-afd0-427c-aaa0-cac2a26ee6d1"
      },
      "execution_count": null,
      "outputs": [
        {
          "output_type": "stream",
          "name": "stdout",
          "text": [
            "[1, 2, 3, 4, 5, 6, 7, 8, 9]\n",
            "[]\n",
            "[153, 370, 371, 407]\n",
            "[1634, 8208, 9474]\n"
          ]
        }
      ]
    },
    {
      "cell_type": "markdown",
      "source": [
        "2. Faça uma função para verificar se um número digitado pelo usuário é primo ou não."
      ],
      "metadata": {
        "id": "EFGoYE1NUMwy"
      }
    },
    {
      "cell_type": "code",
      "source": [
        "def is_prime(n):\n",
        "    \"\"\"Checks if a number n is prime or not.\n",
        "\n",
        "    Args:\n",
        "        n (int): positive integer number.\n",
        "    \n",
        "    Returns:\n",
        "        bool: True if n is prime and False if n is not prime.\n",
        "    \"\"\"\n",
        "    if n <= 1:                          # Zero and 1 are not considered prime numbers.\n",
        "        return False\n",
        "    elif n == 2:                        # The only even prime number is 2. \n",
        "        return True\n",
        "    elif not n%2:                       # All other even numbers can be divided by 2.\n",
        "        return False\n",
        "    elif n > 5 and str(n)[-1] == '5':   # No prime number greater than 5 ends in a 5. \n",
        "        return False\n",
        "    elif not sum(map(int, str(n)))%3:   # If the sum of a number's digits is a multiple of 3, that number can be divided by 3\n",
        "        return False\n",
        "    else:\n",
        "        for i in range(2, n):\n",
        "            if not n%i:                 # If n can be divided by any numeber diferent of 1 is not prime.\n",
        "                return False\n",
        "        return True"
      ],
      "metadata": {
        "id": "f-bDpMHxOWr0"
      },
      "execution_count": null,
      "outputs": []
    },
    {
      "cell_type": "code",
      "source": [
        "print('Lista de todos os números primos entre 1 e 10000:')\n",
        "for i in range(1, 10001):\n",
        "    if is_prime(i):\n",
        "        print(i, end=', ')\n",
        "    if not i % 100:\n",
        "        print()\n"
      ],
      "metadata": {
        "colab": {
          "base_uri": "https://localhost:8080/"
        },
        "id": "nJJS-43oi5NI",
        "outputId": "99470c43-aa3e-4a43-82d8-50b46a3dc6c2"
      },
      "execution_count": null,
      "outputs": [
        {
          "output_type": "stream",
          "name": "stdout",
          "text": [
            "Lista de todos os números primos entre 1 e 10000:\n",
            "2, 5, 7, 11, 13, 17, 19, 23, 29, 31, 37, 41, 43, 47, 53, 59, 61, 67, 71, 73, 79, 83, 89, 97, \n",
            "101, 103, 107, 109, 113, 127, 131, 137, 139, 149, 151, 157, 163, 167, 173, 179, 181, 191, 193, 197, 199, \n",
            "211, 223, 227, 229, 233, 239, 241, 251, 257, 263, 269, 271, 277, 281, 283, 293, \n",
            "307, 311, 313, 317, 331, 337, 347, 349, 353, 359, 367, 373, 379, 383, 389, 397, \n",
            "401, 409, 419, 421, 431, 433, 439, 443, 449, 457, 461, 463, 467, 479, 487, 491, 499, \n",
            "503, 509, 521, 523, 541, 547, 557, 563, 569, 571, 577, 587, 593, 599, \n",
            "601, 607, 613, 617, 619, 631, 641, 643, 647, 653, 659, 661, 673, 677, 683, 691, \n",
            "701, 709, 719, 727, 733, 739, 743, 751, 757, 761, 769, 773, 787, 797, \n",
            "809, 811, 821, 823, 827, 829, 839, 853, 857, 859, 863, 877, 881, 883, 887, \n",
            "907, 911, 919, 929, 937, 941, 947, 953, 967, 971, 977, 983, 991, 997, \n",
            "1009, 1013, 1019, 1021, 1031, 1033, 1039, 1049, 1051, 1061, 1063, 1069, 1087, 1091, 1093, 1097, \n",
            "1103, 1109, 1117, 1123, 1129, 1151, 1153, 1163, 1171, 1181, 1187, 1193, \n",
            "1201, 1213, 1217, 1223, 1229, 1231, 1237, 1249, 1259, 1277, 1279, 1283, 1289, 1291, 1297, \n",
            "1301, 1303, 1307, 1319, 1321, 1327, 1361, 1367, 1373, 1381, 1399, \n",
            "1409, 1423, 1427, 1429, 1433, 1439, 1447, 1451, 1453, 1459, 1471, 1481, 1483, 1487, 1489, 1493, 1499, \n",
            "1511, 1523, 1531, 1543, 1549, 1553, 1559, 1567, 1571, 1579, 1583, 1597, \n",
            "1601, 1607, 1609, 1613, 1619, 1621, 1627, 1637, 1657, 1663, 1667, 1669, 1693, 1697, 1699, \n",
            "1709, 1721, 1723, 1733, 1741, 1747, 1753, 1759, 1777, 1783, 1787, 1789, \n",
            "1801, 1811, 1823, 1831, 1847, 1861, 1867, 1871, 1873, 1877, 1879, 1889, \n",
            "1901, 1907, 1913, 1931, 1933, 1949, 1951, 1973, 1979, 1987, 1993, 1997, 1999, \n",
            "2003, 2011, 2017, 2027, 2029, 2039, 2053, 2063, 2069, 2081, 2083, 2087, 2089, 2099, \n",
            "2111, 2113, 2129, 2131, 2137, 2141, 2143, 2153, 2161, 2179, \n",
            "2203, 2207, 2213, 2221, 2237, 2239, 2243, 2251, 2267, 2269, 2273, 2281, 2287, 2293, 2297, \n",
            "2309, 2311, 2333, 2339, 2341, 2347, 2351, 2357, 2371, 2377, 2381, 2383, 2389, 2393, 2399, \n",
            "2411, 2417, 2423, 2437, 2441, 2447, 2459, 2467, 2473, 2477, \n",
            "2503, 2521, 2531, 2539, 2543, 2549, 2551, 2557, 2579, 2591, 2593, \n",
            "2609, 2617, 2621, 2633, 2647, 2657, 2659, 2663, 2671, 2677, 2683, 2687, 2689, 2693, 2699, \n",
            "2707, 2711, 2713, 2719, 2729, 2731, 2741, 2749, 2753, 2767, 2777, 2789, 2791, 2797, \n",
            "2801, 2803, 2819, 2833, 2837, 2843, 2851, 2857, 2861, 2879, 2887, 2897, \n",
            "2903, 2909, 2917, 2927, 2939, 2953, 2957, 2963, 2969, 2971, 2999, \n",
            "3001, 3011, 3019, 3023, 3037, 3041, 3049, 3061, 3067, 3079, 3083, 3089, \n",
            "3109, 3119, 3121, 3137, 3163, 3167, 3169, 3181, 3187, 3191, \n",
            "3203, 3209, 3217, 3221, 3229, 3251, 3253, 3257, 3259, 3271, 3299, \n",
            "3301, 3307, 3313, 3319, 3323, 3329, 3331, 3343, 3347, 3359, 3361, 3371, 3373, 3389, 3391, \n",
            "3407, 3413, 3433, 3449, 3457, 3461, 3463, 3467, 3469, 3491, 3499, \n",
            "3511, 3517, 3527, 3529, 3533, 3539, 3541, 3547, 3557, 3559, 3571, 3581, 3583, 3593, \n",
            "3607, 3613, 3617, 3623, 3631, 3637, 3643, 3659, 3671, 3673, 3677, 3691, 3697, \n",
            "3701, 3709, 3719, 3727, 3733, 3739, 3761, 3767, 3769, 3779, 3793, 3797, \n",
            "3803, 3821, 3823, 3833, 3847, 3851, 3853, 3863, 3877, 3881, 3889, \n",
            "3907, 3911, 3917, 3919, 3923, 3929, 3931, 3943, 3947, 3967, 3989, \n",
            "4001, 4003, 4007, 4013, 4019, 4021, 4027, 4049, 4051, 4057, 4073, 4079, 4091, 4093, 4099, \n",
            "4111, 4127, 4129, 4133, 4139, 4153, 4157, 4159, 4177, \n",
            "4201, 4211, 4217, 4219, 4229, 4231, 4241, 4243, 4253, 4259, 4261, 4271, 4273, 4283, 4289, 4297, \n",
            "4327, 4337, 4339, 4349, 4357, 4363, 4373, 4391, 4397, \n",
            "4409, 4421, 4423, 4441, 4447, 4451, 4457, 4463, 4481, 4483, 4493, \n",
            "4507, 4513, 4517, 4519, 4523, 4547, 4549, 4561, 4567, 4583, 4591, 4597, \n",
            "4603, 4621, 4637, 4639, 4643, 4649, 4651, 4657, 4663, 4673, 4679, 4691, \n",
            "4703, 4721, 4723, 4729, 4733, 4751, 4759, 4783, 4787, 4789, 4793, 4799, \n",
            "4801, 4813, 4817, 4831, 4861, 4871, 4877, 4889, \n",
            "4903, 4909, 4919, 4931, 4933, 4937, 4943, 4951, 4957, 4967, 4969, 4973, 4987, 4993, 4999, \n",
            "5003, 5009, 5011, 5021, 5023, 5039, 5051, 5059, 5077, 5081, 5087, 5099, \n",
            "5101, 5107, 5113, 5119, 5147, 5153, 5167, 5171, 5179, 5189, 5197, \n",
            "5209, 5227, 5231, 5233, 5237, 5261, 5273, 5279, 5281, 5297, \n",
            "5303, 5309, 5323, 5333, 5347, 5351, 5381, 5387, 5393, 5399, \n",
            "5407, 5413, 5417, 5419, 5431, 5437, 5441, 5443, 5449, 5471, 5477, 5479, 5483, \n",
            "5501, 5503, 5507, 5519, 5521, 5527, 5531, 5557, 5563, 5569, 5573, 5581, 5591, \n",
            "5623, 5639, 5641, 5647, 5651, 5653, 5657, 5659, 5669, 5683, 5689, 5693, \n",
            "5701, 5711, 5717, 5737, 5741, 5743, 5749, 5779, 5783, 5791, \n",
            "5801, 5807, 5813, 5821, 5827, 5839, 5843, 5849, 5851, 5857, 5861, 5867, 5869, 5879, 5881, 5897, \n",
            "5903, 5923, 5927, 5939, 5953, 5981, 5987, \n",
            "6007, 6011, 6029, 6037, 6043, 6047, 6053, 6067, 6073, 6079, 6089, 6091, \n",
            "6101, 6113, 6121, 6131, 6133, 6143, 6151, 6163, 6173, 6197, 6199, \n",
            "6203, 6211, 6217, 6221, 6229, 6247, 6257, 6263, 6269, 6271, 6277, 6287, 6299, \n",
            "6301, 6311, 6317, 6323, 6329, 6337, 6343, 6353, 6359, 6361, 6367, 6373, 6379, 6389, 6397, \n",
            "6421, 6427, 6449, 6451, 6469, 6473, 6481, 6491, \n",
            "6521, 6529, 6547, 6551, 6553, 6563, 6569, 6571, 6577, 6581, 6599, \n",
            "6607, 6619, 6637, 6653, 6659, 6661, 6673, 6679, 6689, 6691, \n",
            "6701, 6703, 6709, 6719, 6733, 6737, 6761, 6763, 6779, 6781, 6791, 6793, \n",
            "6803, 6823, 6827, 6829, 6833, 6841, 6857, 6863, 6869, 6871, 6883, 6899, \n",
            "6907, 6911, 6917, 6947, 6949, 6959, 6961, 6967, 6971, 6977, 6983, 6991, 6997, \n",
            "7001, 7013, 7019, 7027, 7039, 7043, 7057, 7069, 7079, \n",
            "7103, 7109, 7121, 7127, 7129, 7151, 7159, 7177, 7187, 7193, \n",
            "7207, 7211, 7213, 7219, 7229, 7237, 7243, 7247, 7253, 7283, 7297, \n",
            "7307, 7309, 7321, 7331, 7333, 7349, 7351, 7369, 7393, \n",
            "7411, 7417, 7433, 7451, 7457, 7459, 7477, 7481, 7487, 7489, 7499, \n",
            "7507, 7517, 7523, 7529, 7537, 7541, 7547, 7549, 7559, 7561, 7573, 7577, 7583, 7589, 7591, \n",
            "7603, 7607, 7621, 7639, 7643, 7649, 7669, 7673, 7681, 7687, 7691, 7699, \n",
            "7703, 7717, 7723, 7727, 7741, 7753, 7757, 7759, 7789, 7793, \n",
            "7817, 7823, 7829, 7841, 7853, 7867, 7873, 7877, 7879, 7883, \n",
            "7901, 7907, 7919, 7927, 7933, 7937, 7949, 7951, 7963, 7993, \n",
            "8009, 8011, 8017, 8039, 8053, 8059, 8069, 8081, 8087, 8089, 8093, \n",
            "8101, 8111, 8117, 8123, 8147, 8161, 8167, 8171, 8179, 8191, \n",
            "8209, 8219, 8221, 8231, 8233, 8237, 8243, 8263, 8269, 8273, 8287, 8291, 8293, 8297, \n",
            "8311, 8317, 8329, 8353, 8363, 8369, 8377, 8387, 8389, \n",
            "8419, 8423, 8429, 8431, 8443, 8447, 8461, 8467, \n",
            "8501, 8513, 8521, 8527, 8537, 8539, 8543, 8563, 8573, 8581, 8597, 8599, \n",
            "8609, 8623, 8627, 8629, 8641, 8647, 8663, 8669, 8677, 8681, 8689, 8693, 8699, \n",
            "8707, 8713, 8719, 8731, 8737, 8741, 8747, 8753, 8761, 8779, 8783, \n",
            "8803, 8807, 8819, 8821, 8831, 8837, 8839, 8849, 8861, 8863, 8867, 8887, 8893, \n",
            "8923, 8929, 8933, 8941, 8951, 8963, 8969, 8971, 8999, \n",
            "9001, 9007, 9011, 9013, 9029, 9041, 9043, 9049, 9059, 9067, 9091, \n",
            "9103, 9109, 9127, 9133, 9137, 9151, 9157, 9161, 9173, 9181, 9187, 9199, \n",
            "9203, 9209, 9221, 9227, 9239, 9241, 9257, 9277, 9281, 9283, 9293, \n",
            "9311, 9319, 9323, 9337, 9341, 9343, 9349, 9371, 9377, 9391, 9397, \n",
            "9403, 9413, 9419, 9421, 9431, 9433, 9437, 9439, 9461, 9463, 9467, 9473, 9479, 9491, 9497, \n",
            "9511, 9521, 9533, 9539, 9547, 9551, 9587, \n",
            "9601, 9613, 9619, 9623, 9629, 9631, 9643, 9649, 9661, 9677, 9679, 9689, 9697, \n",
            "9719, 9721, 9733, 9739, 9743, 9749, 9767, 9769, 9781, 9787, 9791, \n",
            "9803, 9811, 9817, 9829, 9833, 9839, 9851, 9857, 9859, 9871, 9883, 9887, \n",
            "9901, 9907, 9923, 9929, 9931, 9941, 9949, 9967, 9973, \n"
          ]
        }
      ]
    },
    {
      "cell_type": "markdown",
      "source": [
        "## DESAFIO"
      ],
      "metadata": {
        "id": "-wQHwrQJqi56"
      }
    },
    {
      "cell_type": "markdown",
      "source": [
        "Faça um jogo da forca no qual haja uma lista de palavras disponível no código e que sejam utilizadas no jogo. Em vez do bonequinho tendo os membros preenchidos, utilize a palavra \"FORCA\", para indicar que o usuário errou na escolha da letra.\n",
        "\n",
        "```\n",
        "# This is formatted as code\n",
        "```\n",
        "\n"
      ],
      "metadata": {
        "id": "THzpL2YUqghx"
      }
    },
    {
      "cell_type": "code",
      "source": [
        "from random import randint\n",
        "\n",
        "def forca():\n",
        "\n",
        "    word_list = ['jogo', 'forca', 'lista', 'palavra', 'disponivel', 'codigo', 'utilizada', 'python', 'bonequinho',\n",
        "                'membro', 'preenchido', 'utilizar', 'forca', 'usuario', 'escolha', 'letra', 'errar', 'indicar']\n",
        "\n",
        "    game_word = word_list[randint(0, len(word_list)-1)]\n",
        "    end_game_word = 'FORCA'\n",
        "    user_word = list('_'*len(game_word))\n",
        "    attempts = []\n",
        "    errors = 0\n",
        "    hits = 0\n",
        "\n",
        "    print(f'Adivinhe a palavra. Dica ela tem {len(game_word)} letras')\n",
        "\n",
        "    while True:\n",
        "        print()\n",
        "        print('='*50)\n",
        "        print(end_game_word[:errors])\n",
        "        print(' '.join(user_word))\n",
        "        letter = input('Digite uma letra: ')\n",
        "\n",
        "        if letter in attempts:\n",
        "            print('Você já digitou essa letra antes. Tente outra.\\n\\n')\n",
        "            continue\n",
        "        \n",
        "        if letter in game_word:\n",
        "            for i, char in enumerate(game_word):\n",
        "                if char == letter:\n",
        "                    user_word[i] = char\n",
        "                    hits += 1\n",
        "        else:\n",
        "            errors += 1\n",
        "\n",
        "        attempts.append(letter)\n",
        "        \n",
        "        if errors == 5:\n",
        "            print(end_game_word)\n",
        "            print('Vc perdeu')\n",
        "            print('A palavra era:')\n",
        "            print(game_word.upper())\n",
        "            break\n",
        "        if hits == len(game_word):\n",
        "            print(' '.join(user_word))\n",
        "            print('Parabéns. Vc ganhou')\n",
        "            break\n"
      ],
      "metadata": {
        "id": "VT7htFnFi6-1"
      },
      "execution_count": null,
      "outputs": []
    },
    {
      "cell_type": "code",
      "source": [
        "forca()"
      ],
      "metadata": {
        "colab": {
          "base_uri": "https://localhost:8080/"
        },
        "id": "P-w5kfmitRP0",
        "outputId": "b0b5ad65-bafe-4244-a648-70f6636d85a8"
      },
      "execution_count": null,
      "outputs": [
        {
          "output_type": "stream",
          "name": "stdout",
          "text": [
            "Adivinhe a palavra. Dica ela tem 10 letras\n",
            "\n",
            "==================================================\n",
            "\n",
            "_ _ _ _ _ _ _ _ _ _\n",
            "Digite uma letra: q\n",
            "\n",
            "==================================================\n",
            "F\n",
            "_ _ _ _ _ _ _ _ _ _\n",
            "Digite uma letra: w\n",
            "\n",
            "==================================================\n",
            "FO\n",
            "_ _ _ _ _ _ _ _ _ _\n",
            "Digite uma letra: e\n",
            "\n",
            "==================================================\n",
            "FO\n",
            "_ _ _ _ _ _ _ _ e _\n",
            "Digite uma letra: r\n",
            "\n",
            "==================================================\n",
            "FOR\n",
            "_ _ _ _ _ _ _ _ e _\n",
            "Digite uma letra: t\n",
            "\n",
            "==================================================\n",
            "FORC\n",
            "_ _ _ _ _ _ _ _ e _\n",
            "Digite uma letra: y\n",
            "FORCA\n",
            "Vc perdeu\n",
            "A palavra era:\n",
            "DISPONIVEL\n"
          ]
        }
      ]
    }
  ]
}
