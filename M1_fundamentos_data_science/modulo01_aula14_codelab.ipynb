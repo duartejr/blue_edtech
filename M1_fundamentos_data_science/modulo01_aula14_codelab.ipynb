{
  "nbformat": 4,
  "nbformat_minor": 0,
  "metadata": {
    "colab": {
      "name": "aula14_codelab.ipynb",
      "provenance": [],
      "authorship_tag": "ABX9TyM19UMSVuhcFuvi2H3e1vwy",
      "include_colab_link": true
    },
    "kernelspec": {
      "name": "python3",
      "display_name": "Python 3"
    },
    "language_info": {
      "name": "python"
    }
  },
  "cells": [
    {
      "cell_type": "markdown",
      "metadata": {
        "id": "view-in-github",
        "colab_type": "text"
      },
      "source": [
        "<a href=\"https://colab.research.google.com/github/duartejr/blue_edtech/blob/master/M1/M01_aula14_codelab.ipynb\" target=\"_parent\"><img src=\"https://colab.research.google.com/assets/colab-badge.svg\" alt=\"Open In Colab\"/></a>"
      ]
    },
    {
      "cell_type": "markdown",
      "source": [
        "# Aula 14 - [CODELAB] Introdução ao Python - Parte 2\n",
        "\n",
        "## Conteúdos\n",
        "* Exercícios para fazer\n",
        "* Exercícios para testar\n",
        "\n"
      ],
      "metadata": {
        "id": "i37aJyvXIGNY"
      }
    },
    {
      "cell_type": "markdown",
      "source": [
        "## Exercícios para fazer"
      ],
      "metadata": {
        "id": "bQDKurygIOqo"
      }
    },
    {
      "cell_type": "markdown",
      "source": [
        "1. Peça ao usuário uma palavra e a devolva com as letras ao contrário. Caso a palavra seja a mesma nos dois sentidos, imprima uma mensagem dizendo que é um palíndromo."
      ],
      "metadata": {
        "id": "3jYvBb8pISyF"
      }
    },
    {
      "cell_type": "code",
      "execution_count": null,
      "metadata": {
        "id": "zFBO2ofaHzJq",
        "colab": {
          "base_uri": "https://localhost:8080/"
        },
        "outputId": "8b15885d-71c7-4341-b263-77194a2d9f41"
      },
      "outputs": [
        {
          "output_type": "stream",
          "name": "stdout",
          "text": [
            "Informe uma palavra: comida\n",
            "O inverso da sua palavra é:  adimoc\n"
          ]
        }
      ],
      "source": [
        "word = input('Informe uma palavra: ')\n",
        "inverted_word = word[-1::-1]\n",
        "print('O inverso da sua palavra é:', inverted_word)\n",
        "if word == inverted_word:\n",
        "  print(f'{inverted_word} é um palíndromo.')"
      ]
    },
    {
      "cell_type": "markdown",
      "source": [
        "2. Peça ao usuário uma palavra, coloque todas as letras em caixa baixa e, depois, cada vogal na palavra deve ser convertido para letra maiúscula."
      ],
      "metadata": {
        "id": "LG4SxliwIibv"
      }
    },
    {
      "cell_type": "code",
      "source": [
        "vowels = 'aeiou'\n",
        "\n",
        "word = input('Informe uma palavra: ')\n",
        "word = word.lower()\n",
        "\n",
        "for vowel in vowels:\n",
        "  word = word.replace(vowel, vowel.upper())\n",
        "\n",
        "print(word)"
      ],
      "metadata": {
        "id": "ZDgMFf-HImYA",
        "colab": {
          "base_uri": "https://localhost:8080/"
        },
        "outputId": "960a6b1e-492b-4da9-ca73-19470494f69e"
      },
      "execution_count": null,
      "outputs": [
        {
          "output_type": "stream",
          "name": "stdout",
          "text": [
            "Informe uma palavra: tomada\n",
            "tOmAdA\n"
          ]
        }
      ]
    },
    {
      "cell_type": "markdown",
      "source": [
        "3. Peça ao usuário uma palavra e exiba três mensagens, na primeira deve conter todas as letras digitadas na palavra, na segunda todos os números e na terceira o que não for nem letra e nem número."
      ],
      "metadata": {
        "id": "8lJ0jymBIm2Q"
      }
    },
    {
      "cell_type": "code",
      "source": [
        "import re\n",
        "\n",
        "word = input('Informe uma palavra: ')\n",
        "digits = ''\n",
        "letters = ''\n",
        "chars = ''\n",
        "\n",
        "for char in word:\n",
        "  if char.isdigit():\n",
        "    digits += char\n",
        "  elif re.match('[a-zA-Z]', char):\n",
        "    letters += char\n",
        "  else:\n",
        "    chars += char\n",
        "\n",
        "print('Letras digitadas:', letters)\n",
        "print('Números digitados:', digits)\n",
        "print('Caracteres digitados:', chars)"
      ],
      "metadata": {
        "id": "xUyOVofCIqsv",
        "colab": {
          "base_uri": "https://localhost:8080/"
        },
        "outputId": "42c186d8-817f-461a-98cd-3e5fe1d21494"
      },
      "execution_count": null,
      "outputs": [
        {
          "output_type": "stream",
          "name": "stdout",
          "text": [
            "Informe uma palavra: 1 tomada de larajans?\n",
            "Letras digitadas: tomadadelarajans\n",
            "Números digitados: 1\n",
            "Caracteres digitados:    ?\n"
          ]
        }
      ]
    },
    {
      "cell_type": "markdown",
      "source": [
        "4. Pergunte ao usuário quantos números serão digitados, depois exiba a soma deles, a média, o menor, o maior, quantos números pares e quantos números ímpares foram digitados. Utilize o 0 como critério de parada."
      ],
      "metadata": {
        "id": "CmCVmQbEIrD1"
      }
    },
    {
      "cell_type": "code",
      "source": [
        "n = int(input('Quantos números serão digitados? '))\n",
        "numbers = []\n",
        "count_even = 0\n",
        "count_odd = 0\n",
        "\n",
        "for i in range(n):\n",
        "  numbers.append(int(input(f'Informe o {i+1}º número: ')))\n",
        "  if numbers[i] // 2:\n",
        "    count_odd += 1\n",
        "  else:\n",
        "    count_even += 1\n",
        "\n",
        "\n",
        "print('A soma de todos os números é:', sum(numbers))\n",
        "print('A média dos números é:', sum(numbers)/n)\n",
        "print('O menor número é:', min(numbers))\n",
        "print('O maior número é:', max(numbers))\n",
        "print('Quantidade de números pares:', count_even)\n",
        "print('Quantidade de números ímpares:', count_odd)"
      ],
      "metadata": {
        "id": "j13NDO6yIyek",
        "colab": {
          "base_uri": "https://localhost:8080/"
        },
        "outputId": "a806873d-2559-4356-a27f-8983509c28e5"
      },
      "execution_count": null,
      "outputs": [
        {
          "output_type": "stream",
          "name": "stdout",
          "text": [
            "Quantos números serão digitados? 3\n",
            "Informe o 1º número: 1\n",
            "Informe o 2º número: 2\n",
            "Informe o 3º número: 3\n",
            "A soma de todos os números é: 6\n",
            "A média dos números é: 2.0\n",
            "O menor número é: 1\n",
            "O maior número é: 3\n",
            "Quantidade de números pares: 1\n",
            "Quantidade de números ímpares: 2\n"
          ]
        }
      ]
    },
    {
      "cell_type": "markdown",
      "source": [
        "5. Peça um programa que o usuário deve digitar um número par e caso seja digitado um número ímpar, o programa deve repetir o pedido. Quando o número par for digitado, exiba a seguinte mensagem: Tarefa concluída."
      ],
      "metadata": {
        "id": "iLaCZ6wTIy2_"
      }
    },
    {
      "cell_type": "code",
      "source": [
        "while True:\n",
        "  number = int(input('Digite um número par: '))\n",
        "  if not number % 2:\n",
        "    print('Tarefa concluída')\n",
        "    break\n"
      ],
      "metadata": {
        "id": "1iBU8qS2JL5r",
        "colab": {
          "base_uri": "https://localhost:8080/"
        },
        "outputId": "1fd3dff3-4487-499a-f05c-f022a1ab2ec3"
      },
      "execution_count": null,
      "outputs": [
        {
          "name": "stdout",
          "output_type": "stream",
          "text": [
            "Digite um número par: 3\n"
          ]
        }
      ]
    },
    {
      "cell_type": "markdown",
      "source": [
        "6. Escreva um programa que liste todos os números de -100 a 100 (com os extremos incluídos) e que todo múltiplo de 3 e 4 seja substituído pela palavra Aqui."
      ],
      "metadata": {
        "id": "pSL55FQtJMSV"
      }
    },
    {
      "cell_type": "code",
      "source": [
        "for n in range(-100, 101):\n",
        "  if not(n%3) and not(n%4):\n",
        "    print('Aqui')\n",
        "  else:\n",
        "    print(n)"
      ],
      "metadata": {
        "id": "zFarSiugJSXR",
        "colab": {
          "base_uri": "https://localhost:8080/"
        },
        "outputId": "0be743ef-07c5-4cf2-d790-f38f72869103"
      },
      "execution_count": 13,
      "outputs": [
        {
          "output_type": "stream",
          "name": "stdout",
          "text": [
            "-100\n",
            "-99\n",
            "-98\n",
            "-97\n",
            "Aqui\n",
            "-95\n",
            "-94\n",
            "-93\n",
            "-92\n",
            "-91\n",
            "-90\n",
            "-89\n",
            "-88\n",
            "-87\n",
            "-86\n",
            "-85\n",
            "Aqui\n",
            "-83\n",
            "-82\n",
            "-81\n",
            "-80\n",
            "-79\n",
            "-78\n",
            "-77\n",
            "-76\n",
            "-75\n",
            "-74\n",
            "-73\n",
            "Aqui\n",
            "-71\n",
            "-70\n",
            "-69\n",
            "-68\n",
            "-67\n",
            "-66\n",
            "-65\n",
            "-64\n",
            "-63\n",
            "-62\n",
            "-61\n",
            "Aqui\n",
            "-59\n",
            "-58\n",
            "-57\n",
            "-56\n",
            "-55\n",
            "-54\n",
            "-53\n",
            "-52\n",
            "-51\n",
            "-50\n",
            "-49\n",
            "Aqui\n",
            "-47\n",
            "-46\n",
            "-45\n",
            "-44\n",
            "-43\n",
            "-42\n",
            "-41\n",
            "-40\n",
            "-39\n",
            "-38\n",
            "-37\n",
            "Aqui\n",
            "-35\n",
            "-34\n",
            "-33\n",
            "-32\n",
            "-31\n",
            "-30\n",
            "-29\n",
            "-28\n",
            "-27\n",
            "-26\n",
            "-25\n",
            "Aqui\n",
            "-23\n",
            "-22\n",
            "-21\n",
            "-20\n",
            "-19\n",
            "-18\n",
            "-17\n",
            "-16\n",
            "-15\n",
            "-14\n",
            "-13\n",
            "Aqui\n",
            "-11\n",
            "-10\n",
            "-9\n",
            "-8\n",
            "-7\n",
            "-6\n",
            "-5\n",
            "-4\n",
            "-3\n",
            "-2\n",
            "-1\n",
            "Aqui\n",
            "1\n",
            "2\n",
            "3\n",
            "4\n",
            "5\n",
            "6\n",
            "7\n",
            "8\n",
            "9\n",
            "10\n",
            "11\n",
            "Aqui\n",
            "13\n",
            "14\n",
            "15\n",
            "16\n",
            "17\n",
            "18\n",
            "19\n",
            "20\n",
            "21\n",
            "22\n",
            "23\n",
            "Aqui\n",
            "25\n",
            "26\n",
            "27\n",
            "28\n",
            "29\n",
            "30\n",
            "31\n",
            "32\n",
            "33\n",
            "34\n",
            "35\n",
            "Aqui\n",
            "37\n",
            "38\n",
            "39\n",
            "40\n",
            "41\n",
            "42\n",
            "43\n",
            "44\n",
            "45\n",
            "46\n",
            "47\n",
            "Aqui\n",
            "49\n",
            "50\n",
            "51\n",
            "52\n",
            "53\n",
            "54\n",
            "55\n",
            "56\n",
            "57\n",
            "58\n",
            "59\n",
            "Aqui\n",
            "61\n",
            "62\n",
            "63\n",
            "64\n",
            "65\n",
            "66\n",
            "67\n",
            "68\n",
            "69\n",
            "70\n",
            "71\n",
            "Aqui\n",
            "73\n",
            "74\n",
            "75\n",
            "76\n",
            "77\n",
            "78\n",
            "79\n",
            "80\n",
            "81\n",
            "82\n",
            "83\n",
            "Aqui\n",
            "85\n",
            "86\n",
            "87\n",
            "88\n",
            "89\n",
            "90\n",
            "91\n",
            "92\n",
            "93\n",
            "94\n",
            "95\n",
            "Aqui\n",
            "97\n",
            "98\n",
            "99\n",
            "100\n"
          ]
        }
      ]
    },
    {
      "cell_type": "markdown",
      "source": [
        "7. Escreva um programa que inverta uma palavra. Por exemplo, caso a entrada seja Casa a saída deve ser asaC"
      ],
      "metadata": {
        "id": "-DyYnZWpJSu2"
      }
    },
    {
      "cell_type": "code",
      "source": [
        "word = input('Digite uma palavra: ')\n",
        "print(word[-1::-1])"
      ],
      "metadata": {
        "id": "mdM7Re-_JVwS",
        "colab": {
          "base_uri": "https://localhost:8080/"
        },
        "outputId": "442894b6-946e-46c0-cd88-d35cf14d3b01"
      },
      "execution_count": null,
      "outputs": [
        {
          "output_type": "stream",
          "name": "stdout",
          "text": [
            "Digite uma palavra: Abacaxi\n",
            "ixacabA\n"
          ]
        }
      ]
    },
    {
      "cell_type": "markdown",
      "source": [
        "8. Escreva um programa que desenhe o seguinte padrão:\n",
        "\n",
        "* ** *** **** ***** ****** ******* ******** ********* ********** *********** ************ *************'"
      ],
      "metadata": {
        "id": "K9vdiqLsJWFN"
      }
    },
    {
      "cell_type": "code",
      "source": [
        "for i in range(1, 14):\n",
        "  print('*'*i, end=' ')"
      ],
      "metadata": {
        "id": "PsatGRbVJZHv",
        "colab": {
          "base_uri": "https://localhost:8080/"
        },
        "outputId": "b6b1d93d-0a0a-47d9-fc29-e6005ad741f8"
      },
      "execution_count": null,
      "outputs": [
        {
          "output_type": "stream",
          "name": "stdout",
          "text": [
            "* ** *** **** ***** ****** ******* ******** ********* ********** *********** ************ ************* "
          ]
        }
      ]
    },
    {
      "cell_type": "markdown",
      "source": [
        "9. Escreva um programa que dê a tabuada dos números de 1 a 10."
      ],
      "metadata": {
        "id": "H97Zq9y2JZjr"
      }
    },
    {
      "cell_type": "code",
      "source": [
        "for i in range(1, 11):\n",
        "  print(i, '* 10 =', i*10)"
      ],
      "metadata": {
        "id": "DnKnahSLJdIv",
        "colab": {
          "base_uri": "https://localhost:8080/"
        },
        "outputId": "2b0b764e-24d8-4508-a031-375931d1c12d"
      },
      "execution_count": null,
      "outputs": [
        {
          "output_type": "stream",
          "name": "stdout",
          "text": [
            "1 * 10 = 10\n",
            "2 * 10 = 20\n",
            "3 * 10 = 30\n",
            "4 * 10 = 40\n",
            "5 * 10 = 50\n",
            "6 * 10 = 60\n",
            "7 * 10 = 70\n",
            "8 * 10 = 80\n",
            "9 * 10 = 90\n",
            "10 * 10 = 100\n"
          ]
        }
      ]
    },
    {
      "cell_type": "markdown",
      "source": [
        "10. Escreva um programa que dado um número de 3 dígitos, a soma do cubo de cada dígito é igual ao próprio número. Por exemplo 1³ + 5³ + 3³ = 153."
      ],
      "metadata": {
        "id": "_HdSLjASJdZW"
      }
    },
    {
      "cell_type": "code",
      "source": [
        "number = input('Digite um número: ')\n",
        "new_number = 0\n",
        "\n",
        "for i in number:\n",
        "  new_number += int(i)**3\n",
        "\n",
        "if int(number) == new_number:\n",
        "  print('Esse número atende a condição.')\n",
        "else:\n",
        "  print('Esse número não atende a condição.')\n"
      ],
      "metadata": {
        "id": "fBogocLiJgjD",
        "colab": {
          "base_uri": "https://localhost:8080/"
        },
        "outputId": "a657fbf6-2a50-4c93-f731-3aa3b2ae8b4d"
      },
      "execution_count": null,
      "outputs": [
        {
          "output_type": "stream",
          "name": "stdout",
          "text": [
            "Digite um número: 153\n",
            "Esse número atende a condição.\n"
          ]
        }
      ]
    },
    {
      "cell_type": "markdown",
      "source": [
        "11. Escreva um programa que dado um número de 4 dígitos, a soma dos dígitos após serem elevados à quarta potência totalizará o próprio número.\n",
        "Por exemplo 1634 = 1 ** 4 + 6 ** 4 + 3 ** 4 + 4 ** 4"
      ],
      "metadata": {
        "id": "qStXFRMxJgx-"
      }
    },
    {
      "cell_type": "code",
      "source": [
        "number = input('Digite um número: ')\n",
        "new_number = 0\n",
        "\n",
        "for i in number:\n",
        "  new_number += int(i)**4\n",
        "\n",
        "if int(number) == new_number:\n",
        "  print('Esse número atende a condição.')\n",
        "else:\n",
        "  print('Esse número não atende a condição.')"
      ],
      "metadata": {
        "id": "gG4G8A4NJkn9",
        "colab": {
          "base_uri": "https://localhost:8080/"
        },
        "outputId": "376fbbb3-e027-49a0-c9c4-31416598b048"
      },
      "execution_count": null,
      "outputs": [
        {
          "output_type": "stream",
          "name": "stdout",
          "text": [
            "Digite um número: 1634\n",
            "Esse número atende a condição.\n"
          ]
        }
      ]
    },
    {
      "cell_type": "markdown",
      "source": [
        "12. Escreva um programa que dado um número de 5 dígitos, a soma dos dígitos após serem elevados à quinta potência totalizará o próprio número.\n",
        "Por exemplo 54748 = 5 ** 5 + 4 ** 5 + 7 ** 5 + 4 ** 5 + 8 ** 5"
      ],
      "metadata": {
        "id": "LaIsNN7eJlAx"
      }
    },
    {
      "cell_type": "code",
      "source": [
        "number = input('Digite um número: ')\n",
        "new_number = 0\n",
        "\n",
        "for i in number:\n",
        "  new_number += int(i)**5\n",
        "\n",
        "if int(number) == new_number:\n",
        "  print('Esse número atende a condição.')\n",
        "else:\n",
        "  print('Esse número não atende a condição.')"
      ],
      "metadata": {
        "id": "0t9FWWWlJo5m",
        "colab": {
          "base_uri": "https://localhost:8080/"
        },
        "outputId": "27d6a25f-1021-4a78-c2b9-c26ce2db08cb"
      },
      "execution_count": null,
      "outputs": [
        {
          "output_type": "stream",
          "name": "stdout",
          "text": [
            "Digite um número: 5478\n",
            "Esse número não atende a condição.\n"
          ]
        }
      ]
    },
    {
      "cell_type": "markdown",
      "source": [
        "13. A seguinte sequência 0, 1, 1, 2, 3, 5, 8, ... , conhecida como sequência de Fibonacci, é formada pela seguinte regra: o primeiro termo é 0, o segundo é 1, os próximos serão a soma dos dois anteriores. Escreva um programa que peça ao usuário um termo da sequência de Fibonacci e exiba-o na tela."
      ],
      "metadata": {
        "id": "FZNmDkZ4JpTo"
      }
    },
    {
      "cell_type": "code",
      "source": [
        "pos = int(input('Informe o termo que deseja ver: '))\n",
        "fib0 = 1\n",
        "fib1 = 1\n",
        "if pos > 2:\n",
        "  for i in range(3, pos+1):\n",
        "    fib0, fib1 = fib1, fib1+fib0\n",
        "\n",
        "print(f'O {pos}º termo da sequência é: {fib1}')\n"
      ],
      "metadata": {
        "id": "HzhHXIbxJszu",
        "colab": {
          "base_uri": "https://localhost:8080/"
        },
        "outputId": "f4b89b9a-04b5-4fa5-fe81-f68175c0ca24"
      },
      "execution_count": null,
      "outputs": [
        {
          "output_type": "stream",
          "name": "stdout",
          "text": [
            "Informe o termo que deseja ver: 6\n",
            "O 6º termo da sequência é: 8\n"
          ]
        }
      ]
    },
    {
      "cell_type": "markdown",
      "source": [
        "14. Você consegue refazer os exercícios dessa lista trocando o for por while? Escolha exercícios desta seção e da próxima e tente refazer trocando a estruturada do for pela do while."
      ],
      "metadata": {
        "id": "ybPHSwssJtOw"
      }
    },
    {
      "cell_type": "code",
      "source": [
        "'Sim. Mas não quero'"
      ],
      "metadata": {
        "id": "74tbdDPTJwkt",
        "colab": {
          "base_uri": "https://localhost:8080/",
          "height": 35
        },
        "outputId": "f8ff285a-1f7c-4d45-f3b3-978215b5f9d3"
      },
      "execution_count": null,
      "outputs": [
        {
          "output_type": "execute_result",
          "data": {
            "text/plain": [
              "'Sim. Mas não quero'"
            ],
            "application/vnd.google.colaboratory.intrinsic+json": {
              "type": "string"
            }
          },
          "metadata": {},
          "execution_count": 62
        }
      ]
    },
    {
      "cell_type": "markdown",
      "source": [
        "15. O que faz a função bool()?"
      ],
      "metadata": {
        "id": "I4FwIQzYJw7c"
      }
    },
    {
      "cell_type": "code",
      "source": [
        "bool(0) # Retorna boolenao"
      ],
      "metadata": {
        "id": "F5LsYvfXJ1SI",
        "colab": {
          "base_uri": "https://localhost:8080/"
        },
        "outputId": "a0e32236-b56d-422c-cc48-0265e95c6c2a"
      },
      "execution_count": null,
      "outputs": [
        {
          "output_type": "execute_result",
          "data": {
            "text/plain": [
              "False"
            ]
          },
          "metadata": {},
          "execution_count": 66
        }
      ]
    },
    {
      "cell_type": "markdown",
      "source": [
        "16. Faça um programa que gere um número de 1 a 10, o usuário deve tentar adivinhar o número gerado, exiba True caso ele tenha acertado e False caso contrário."
      ],
      "metadata": {
        "id": "t1sDuGKhJ1rG"
      }
    },
    {
      "cell_type": "code",
      "source": [
        "from random import randint\n",
        "\n",
        "number = randint(1, 10)\n",
        "\n",
        "user_choice = int(input('Qual o número que eu escolhi? Dúvido você acertar: '))\n",
        "\n",
        "if user_choice == number:\n",
        "  print('Acertou miseravi.')\n",
        "else:\n",
        "  print('Eu num disse que tu num acertava?')"
      ],
      "metadata": {
        "id": "XQW7letlJ5RL",
        "colab": {
          "base_uri": "https://localhost:8080/"
        },
        "outputId": "d799726f-5882-4a74-aeb8-6a4c0e62cdf8"
      },
      "execution_count": null,
      "outputs": [
        {
          "output_type": "stream",
          "name": "stdout",
          "text": [
            "Qual o número que eu escolhi? Dúvido você acertar: 4\n",
            "Eu num disse que tu num acertava?\n"
          ]
        }
      ]
    },
    {
      "cell_type": "markdown",
      "source": [
        "## Exercícios para testar"
      ],
      "metadata": {
        "id": "1sSXPZKCJ5nd"
      }
    },
    {
      "cell_type": "markdown",
      "source": [
        "Diga o que os códigos a seguir fazem e, se possível, melhore-os"
      ],
      "metadata": {
        "id": "YgBf-0dXJ9K6"
      }
    },
    {
      "cell_type": "markdown",
      "source": [
        "O programa a seguir conta quantas vogais tem em um nome"
      ],
      "metadata": {
        "id": "CIh_EqxZKnud"
      }
    },
    {
      "cell_type": "code",
      "source": [
        "nome = input(\"Digite seu nome: \")\n",
        "quantVogal = 0\n",
        "\n",
        "for i in range(len(nome)):\n",
        "    if nome[i] == 'a' or nome[i] == 'e' or nome[i] == 'i' or nome[i] == 'o' or nome[i] == 'u':\n",
        "        quantVogal += 1\n",
        "\n",
        "print(quantVogal)"
      ],
      "metadata": {
        "id": "u_q_wj0IJ_JS",
        "colab": {
          "base_uri": "https://localhost:8080/"
        },
        "outputId": "f2d81f5f-0788-4bcb-a23a-c518de092142"
      },
      "execution_count": null,
      "outputs": [
        {
          "output_type": "stream",
          "name": "stdout",
          "text": [
            "Digite seu nome: antonio\n",
            "4\n"
          ]
        }
      ]
    },
    {
      "cell_type": "code",
      "source": [
        "name = input(\"Digite seu nome: \")\n",
        "count_vowel = 0\n",
        "\n",
        "for char in name:\n",
        "    if char in 'aeiou':\n",
        "        count_vowel += 1\n",
        "\n",
        "print(count_vowel)"
      ],
      "metadata": {
        "id": "Ru9b5DlyKoXm",
        "colab": {
          "base_uri": "https://localhost:8080/"
        },
        "outputId": "abe27f68-5894-4427-cb37-599b4fca413a"
      },
      "execution_count": null,
      "outputs": [
        {
          "output_type": "stream",
          "name": "stdout",
          "text": [
            "Digite seu nome: antonio\n",
            "4\n"
          ]
        }
      ]
    },
    {
      "cell_type": "markdown",
      "source": [
        "Imprime os valores a progressão geométrica.\n",
        " $$a_n = a_{(n-1)} . q$$\n",
        " Em que varia entre 1 e num (o valor informado)\n"
      ],
      "metadata": {
        "id": "v6L_XAZaKB8r"
      }
    },
    {
      "cell_type": "code",
      "source": [
        "num = int(input(\"Digite um número não negativo: \"))\n",
        "mult = 1\n",
        "\n",
        "if num < 0:\n",
        "    print(\"Sinto muito, o programa só funciona para números positivos, ou nulo\")\n",
        "elif num == 0:\n",
        "    print(0)\n",
        "else:\n",
        "    for i in range(1, num + 1): \n",
        "        mult = mult * i\n",
        "        print(mult)"
      ],
      "metadata": {
        "id": "StieULeaKC45",
        "colab": {
          "base_uri": "https://localhost:8080/"
        },
        "outputId": "60842392-cfed-4d8f-94eb-2805d8b37d34"
      },
      "execution_count": null,
      "outputs": [
        {
          "output_type": "stream",
          "name": "stdout",
          "text": [
            "Digite um número não negativo: 4\n",
            "1\n",
            "2\n",
            "6\n",
            "24\n"
          ]
        }
      ]
    },
    {
      "cell_type": "code",
      "source": [
        ""
      ],
      "metadata": {
        "id": "GCNletTyKq45"
      },
      "execution_count": null,
      "outputs": []
    },
    {
      "cell_type": "markdown",
      "source": [
        "Informa o signo da pessoa segundo o horóscopo chinês"
      ],
      "metadata": {
        "id": "vybN8O-eKFcx"
      }
    },
    {
      "cell_type": "code",
      "source": [
        "ano = int(input(\"Digite o ano em que você nasceu: \"))\n",
        "resto = ano % 12\n",
        "msg = \"Você é do signo do \"\n",
        "\n",
        "if resto == 0:\n",
        "    print(msg + \"macaco\")\n",
        "elif resto == 1:\n",
        "    print(msg+\"galo\")\n",
        "elif resto == 2:\n",
        "    print(msg + \"cão\")\n",
        "elif resto == 3:\n",
        "    print(msg + \"javali\")\n",
        "elif resto == 4:\n",
        "    print(msg + \"rato\")\n",
        "elif resto == 5:\n",
        "    print(msg + \"búfalo\")\n",
        "elif resto == 6:\n",
        "    print(msg + \"tigre\")\n",
        "elif resto == 7:\n",
        "    print(msg + \"coelho\")\n",
        "elif resto == 8:\n",
        "    print(msg + \"dragão\")\n",
        "elif resto == 9:\n",
        "    print(msg + \"serpente\")\n",
        "elif resto == 10:\n",
        "    print(msg + \"cavalo\")\n",
        "elif resto == 11:\n",
        "    print(\"ovelha\")"
      ],
      "metadata": {
        "id": "7nBTsnjqKGLr",
        "colab": {
          "base_uri": "https://localhost:8080/"
        },
        "outputId": "e2e4ae1e-162d-45bc-a57f-22e87b37c774"
      },
      "execution_count": null,
      "outputs": [
        {
          "output_type": "stream",
          "name": "stdout",
          "text": [
            "Digite o ano em que você nasceu: 1989\n",
            "Você é do signo do serpente\n"
          ]
        }
      ]
    },
    {
      "cell_type": "code",
      "source": [
        "chinese_zodiac = { 0:'macaco',   1:'galo',    2:'cão', 3:'javali',     4:'rato',\n",
        "                   5:'búfalo',  6:'tigre', 7:'coelho', 8:'dragão', 9:'serpente',\n",
        "                  10:'cavalo', 11:'ovelha'}\n",
        "\n",
        "year = int(input(\"Digite o ano em que você nasceu: \"))\n",
        "msg = \"Você é do signo do \"\n",
        "print(msg + chinese_zodiac[year % 12])\n"
      ],
      "metadata": {
        "id": "16xmPtulKsPY",
        "colab": {
          "base_uri": "https://localhost:8080/"
        },
        "outputId": "0123938f-1ba4-4e4b-ced2-b53bed73b6b7"
      },
      "execution_count": null,
      "outputs": [
        {
          "output_type": "stream",
          "name": "stdout",
          "text": [
            "Digite o ano em que você nasceu: 1989\n",
            "Você é do signo do serpente\n"
          ]
        }
      ]
    },
    {
      "cell_type": "markdown",
      "source": [
        ""
      ],
      "metadata": {
        "id": "8VStFY-iKLhy"
      }
    },
    {
      "cell_type": "code",
      "source": [
        "print(1 < 2) # True\n",
        "print(1 > 2) # False\n",
        "print(1 == 2) # False\n",
        "print(bool(\"\")) # False\n",
        "print(bool(\" \")) #True"
      ],
      "metadata": {
        "id": "DkeMgYnvKMaX",
        "colab": {
          "base_uri": "https://localhost:8080/"
        },
        "outputId": "b17a5b76-780d-4365-cc04-bbcc6d05dd31"
      },
      "execution_count": null,
      "outputs": [
        {
          "output_type": "stream",
          "name": "stdout",
          "text": [
            "True\n",
            "False\n",
            "False\n",
            "False\n",
            "True\n"
          ]
        }
      ]
    },
    {
      "cell_type": "markdown",
      "source": [
        ""
      ],
      "metadata": {
        "id": "wToj01RQKtDM"
      }
    },
    {
      "cell_type": "markdown",
      "source": [
        "Imprime as letras da mensagem, uma por linha"
      ],
      "metadata": {
        "id": "jfEkSZgmKPfL"
      }
    },
    {
      "cell_type": "code",
      "source": [
        "msg = \"um dois três quatro cinco seis sete oito nove dez\"\n",
        "msg = msg.split()\n",
        "\n",
        "for i in range(len(msg)):\n",
        "  for j in range(len(msg[i])):\n",
        "    print(msg[i][j])"
      ],
      "metadata": {
        "id": "H_GhOABXKQym",
        "colab": {
          "base_uri": "https://localhost:8080/"
        },
        "outputId": "4bb8cced-b054-4b08-aa9e-ba3ed2ce417a"
      },
      "execution_count": null,
      "outputs": [
        {
          "output_type": "stream",
          "name": "stdout",
          "text": [
            "u\n",
            "m\n",
            "d\n",
            "o\n",
            "i\n",
            "s\n",
            "t\n",
            "r\n",
            "ê\n",
            "s\n",
            "q\n",
            "u\n",
            "a\n",
            "t\n",
            "r\n",
            "o\n",
            "c\n",
            "i\n",
            "n\n",
            "c\n",
            "o\n",
            "s\n",
            "e\n",
            "i\n",
            "s\n",
            "s\n",
            "e\n",
            "t\n",
            "e\n",
            "o\n",
            "i\n",
            "t\n",
            "o\n",
            "n\n",
            "o\n",
            "v\n",
            "e\n",
            "d\n",
            "e\n",
            "z\n"
          ]
        }
      ]
    },
    {
      "cell_type": "markdown",
      "source": [
        ""
      ],
      "metadata": {
        "id": "ez0hav7KKt0j"
      }
    },
    {
      "cell_type": "markdown",
      "source": [
        "Printa a quantidade de vogais no texto"
      ],
      "metadata": {
        "id": "QDWOKJ4aKTz4"
      }
    },
    {
      "cell_type": "code",
      "source": [
        "nome = input(\"Digite seu nome: \")\n",
        "quantVogal = 0\n",
        "vogais = \"a e i o u\"\n",
        "vogais = vogais.split()\n",
        "for i in range(len(nome)):\n",
        "    if nome[i] in vogais:\n",
        "        quantVogal += 1\n",
        "print(quantVogal)"
      ],
      "metadata": {
        "id": "nTmWU6-WKU8G",
        "colab": {
          "base_uri": "https://localhost:8080/"
        },
        "outputId": "0401817a-e5b5-416b-a58a-122d45699723"
      },
      "execution_count": null,
      "outputs": [
        {
          "output_type": "stream",
          "name": "stdout",
          "text": [
            "Digite seu nome: junior\n",
            "3\n"
          ]
        }
      ]
    },
    {
      "cell_type": "code",
      "source": [
        "name = input(\"Digite seu nome: \").lower()\n",
        "number_vowels = len([a for a in name if a in 'aeiou'])\n",
        "print(number_vowels)"
      ],
      "metadata": {
        "id": "Fzg4s47bKup6",
        "colab": {
          "base_uri": "https://localhost:8080/"
        },
        "outputId": "6b879cc9-7d75-47af-fc82-7ce3f706273c"
      },
      "execution_count": 1,
      "outputs": [
        {
          "output_type": "stream",
          "name": "stdout",
          "text": [
            "Digite seu nome: junior\n",
            "3\n"
          ]
        }
      ]
    },
    {
      "cell_type": "markdown",
      "source": [
        "Imprime a tabuada de vezes"
      ],
      "metadata": {
        "id": "MZGbIg8CKX0Y"
      }
    },
    {
      "cell_type": "code",
      "source": [
        "for i in range(10): # aumente o 10 para 100 e veja o que acontece\n",
        "    for j in range(10): # aumente o 10 para 100 e veja o que acontece\n",
        "        print(str(i) + \" x \" + str(j) + \" = \" + str(i * j))"
      ],
      "metadata": {
        "id": "elh2-zmCKZGi",
        "colab": {
          "base_uri": "https://localhost:8080/"
        },
        "outputId": "a49c08cb-aed9-4c3e-c0ab-f632b211f431"
      },
      "execution_count": 2,
      "outputs": [
        {
          "output_type": "stream",
          "name": "stdout",
          "text": [
            "0 x 0 = 0\n",
            "0 x 1 = 0\n",
            "0 x 2 = 0\n",
            "0 x 3 = 0\n",
            "0 x 4 = 0\n",
            "0 x 5 = 0\n",
            "0 x 6 = 0\n",
            "0 x 7 = 0\n",
            "0 x 8 = 0\n",
            "0 x 9 = 0\n",
            "1 x 0 = 0\n",
            "1 x 1 = 1\n",
            "1 x 2 = 2\n",
            "1 x 3 = 3\n",
            "1 x 4 = 4\n",
            "1 x 5 = 5\n",
            "1 x 6 = 6\n",
            "1 x 7 = 7\n",
            "1 x 8 = 8\n",
            "1 x 9 = 9\n",
            "2 x 0 = 0\n",
            "2 x 1 = 2\n",
            "2 x 2 = 4\n",
            "2 x 3 = 6\n",
            "2 x 4 = 8\n",
            "2 x 5 = 10\n",
            "2 x 6 = 12\n",
            "2 x 7 = 14\n",
            "2 x 8 = 16\n",
            "2 x 9 = 18\n",
            "3 x 0 = 0\n",
            "3 x 1 = 3\n",
            "3 x 2 = 6\n",
            "3 x 3 = 9\n",
            "3 x 4 = 12\n",
            "3 x 5 = 15\n",
            "3 x 6 = 18\n",
            "3 x 7 = 21\n",
            "3 x 8 = 24\n",
            "3 x 9 = 27\n",
            "4 x 0 = 0\n",
            "4 x 1 = 4\n",
            "4 x 2 = 8\n",
            "4 x 3 = 12\n",
            "4 x 4 = 16\n",
            "4 x 5 = 20\n",
            "4 x 6 = 24\n",
            "4 x 7 = 28\n",
            "4 x 8 = 32\n",
            "4 x 9 = 36\n",
            "5 x 0 = 0\n",
            "5 x 1 = 5\n",
            "5 x 2 = 10\n",
            "5 x 3 = 15\n",
            "5 x 4 = 20\n",
            "5 x 5 = 25\n",
            "5 x 6 = 30\n",
            "5 x 7 = 35\n",
            "5 x 8 = 40\n",
            "5 x 9 = 45\n",
            "6 x 0 = 0\n",
            "6 x 1 = 6\n",
            "6 x 2 = 12\n",
            "6 x 3 = 18\n",
            "6 x 4 = 24\n",
            "6 x 5 = 30\n",
            "6 x 6 = 36\n",
            "6 x 7 = 42\n",
            "6 x 8 = 48\n",
            "6 x 9 = 54\n",
            "7 x 0 = 0\n",
            "7 x 1 = 7\n",
            "7 x 2 = 14\n",
            "7 x 3 = 21\n",
            "7 x 4 = 28\n",
            "7 x 5 = 35\n",
            "7 x 6 = 42\n",
            "7 x 7 = 49\n",
            "7 x 8 = 56\n",
            "7 x 9 = 63\n",
            "8 x 0 = 0\n",
            "8 x 1 = 8\n",
            "8 x 2 = 16\n",
            "8 x 3 = 24\n",
            "8 x 4 = 32\n",
            "8 x 5 = 40\n",
            "8 x 6 = 48\n",
            "8 x 7 = 56\n",
            "8 x 8 = 64\n",
            "8 x 9 = 72\n",
            "9 x 0 = 0\n",
            "9 x 1 = 9\n",
            "9 x 2 = 18\n",
            "9 x 3 = 27\n",
            "9 x 4 = 36\n",
            "9 x 5 = 45\n",
            "9 x 6 = 54\n",
            "9 x 7 = 63\n",
            "9 x 8 = 72\n",
            "9 x 9 = 81\n"
          ]
        }
      ]
    },
    {
      "cell_type": "code",
      "source": [
        "for i in range(10): # aumente o 10 para 100 e veja o que acontece\n",
        "    print(f'Tabuada do {i}:')\n",
        "    print(\"-\"*20)\n",
        "    for j in range(10): # aumente o 10 para 100 e veja o que acontece\n",
        "        print(f\"{i} x {j} = {i * j}\")\n",
        "    print(\"=\"*20)"
      ],
      "metadata": {
        "id": "Msw4208oKwIL",
        "colab": {
          "base_uri": "https://localhost:8080/"
        },
        "outputId": "483dde45-db9e-43f5-8e90-0213cf3bc52d"
      },
      "execution_count": 8,
      "outputs": [
        {
          "output_type": "stream",
          "name": "stdout",
          "text": [
            "Tabuada do 0:\n",
            "--------------------\n",
            "0 x 0 = 0\n",
            "0 x 1 = 0\n",
            "0 x 2 = 0\n",
            "0 x 3 = 0\n",
            "0 x 4 = 0\n",
            "0 x 5 = 0\n",
            "0 x 6 = 0\n",
            "0 x 7 = 0\n",
            "0 x 8 = 0\n",
            "0 x 9 = 0\n",
            "====================\n",
            "Tabuada do 1:\n",
            "--------------------\n",
            "1 x 0 = 0\n",
            "1 x 1 = 1\n",
            "1 x 2 = 2\n",
            "1 x 3 = 3\n",
            "1 x 4 = 4\n",
            "1 x 5 = 5\n",
            "1 x 6 = 6\n",
            "1 x 7 = 7\n",
            "1 x 8 = 8\n",
            "1 x 9 = 9\n",
            "====================\n",
            "Tabuada do 2:\n",
            "--------------------\n",
            "2 x 0 = 0\n",
            "2 x 1 = 2\n",
            "2 x 2 = 4\n",
            "2 x 3 = 6\n",
            "2 x 4 = 8\n",
            "2 x 5 = 10\n",
            "2 x 6 = 12\n",
            "2 x 7 = 14\n",
            "2 x 8 = 16\n",
            "2 x 9 = 18\n",
            "====================\n",
            "Tabuada do 3:\n",
            "--------------------\n",
            "3 x 0 = 0\n",
            "3 x 1 = 3\n",
            "3 x 2 = 6\n",
            "3 x 3 = 9\n",
            "3 x 4 = 12\n",
            "3 x 5 = 15\n",
            "3 x 6 = 18\n",
            "3 x 7 = 21\n",
            "3 x 8 = 24\n",
            "3 x 9 = 27\n",
            "====================\n",
            "Tabuada do 4:\n",
            "--------------------\n",
            "4 x 0 = 0\n",
            "4 x 1 = 4\n",
            "4 x 2 = 8\n",
            "4 x 3 = 12\n",
            "4 x 4 = 16\n",
            "4 x 5 = 20\n",
            "4 x 6 = 24\n",
            "4 x 7 = 28\n",
            "4 x 8 = 32\n",
            "4 x 9 = 36\n",
            "====================\n",
            "Tabuada do 5:\n",
            "--------------------\n",
            "5 x 0 = 0\n",
            "5 x 1 = 5\n",
            "5 x 2 = 10\n",
            "5 x 3 = 15\n",
            "5 x 4 = 20\n",
            "5 x 5 = 25\n",
            "5 x 6 = 30\n",
            "5 x 7 = 35\n",
            "5 x 8 = 40\n",
            "5 x 9 = 45\n",
            "====================\n",
            "Tabuada do 6:\n",
            "--------------------\n",
            "6 x 0 = 0\n",
            "6 x 1 = 6\n",
            "6 x 2 = 12\n",
            "6 x 3 = 18\n",
            "6 x 4 = 24\n",
            "6 x 5 = 30\n",
            "6 x 6 = 36\n",
            "6 x 7 = 42\n",
            "6 x 8 = 48\n",
            "6 x 9 = 54\n",
            "====================\n",
            "Tabuada do 7:\n",
            "--------------------\n",
            "7 x 0 = 0\n",
            "7 x 1 = 7\n",
            "7 x 2 = 14\n",
            "7 x 3 = 21\n",
            "7 x 4 = 28\n",
            "7 x 5 = 35\n",
            "7 x 6 = 42\n",
            "7 x 7 = 49\n",
            "7 x 8 = 56\n",
            "7 x 9 = 63\n",
            "====================\n",
            "Tabuada do 8:\n",
            "--------------------\n",
            "8 x 0 = 0\n",
            "8 x 1 = 8\n",
            "8 x 2 = 16\n",
            "8 x 3 = 24\n",
            "8 x 4 = 32\n",
            "8 x 5 = 40\n",
            "8 x 6 = 48\n",
            "8 x 7 = 56\n",
            "8 x 8 = 64\n",
            "8 x 9 = 72\n",
            "====================\n",
            "Tabuada do 9:\n",
            "--------------------\n",
            "9 x 0 = 0\n",
            "9 x 1 = 9\n",
            "9 x 2 = 18\n",
            "9 x 3 = 27\n",
            "9 x 4 = 36\n",
            "9 x 5 = 45\n",
            "9 x 6 = 54\n",
            "9 x 7 = 63\n",
            "9 x 8 = 72\n",
            "9 x 9 = 81\n",
            "====================\n"
          ]
        }
      ]
    },
    {
      "cell_type": "markdown",
      "source": [
        "Mostra a n-ésimo termo da sequência de Fibonacci"
      ],
      "metadata": {
        "id": "o3iGzaP6Kbje"
      }
    },
    {
      "cell_type": "code",
      "source": [
        "n1 = 0\n",
        "n2 = 1\n",
        "n3 = 0\n",
        "termo = int(input(\"Digite o termo da sequência que você deseja descobrir: \"))\n",
        "\n",
        "if n3 == 1:\n",
        "    print(0)\n",
        "elif n3 == 2:\n",
        "    print(1)\n",
        "else:\n",
        "    for i in range(termo - 2):\n",
        "        n3 = n1 + n2\n",
        "        n2, n1 = n3, n2\n",
        "\n",
        "print(n3)\n",
        "\n",
        "# Qual o nome dessa sequência?"
      ],
      "metadata": {
        "id": "7ffeCCSFKcOm",
        "colab": {
          "base_uri": "https://localhost:8080/"
        },
        "outputId": "37dcaa11-41b7-4602-e887-33aa5fb80972"
      },
      "execution_count": 11,
      "outputs": [
        {
          "output_type": "stream",
          "name": "stdout",
          "text": [
            "Digite o termo da sequência que você deseja descobrir: 5\n",
            "3\n"
          ]
        }
      ]
    },
    {
      "cell_type": "markdown",
      "source": [
        ""
      ],
      "metadata": {
        "id": "U5psCiFaKw_F"
      }
    },
    {
      "cell_type": "markdown",
      "source": [
        "É o exercício 6"
      ],
      "metadata": {
        "id": "Edw21q5sKg00"
      }
    },
    {
      "cell_type": "code",
      "source": [
        "# Compare com a sua solução do exercício 6\n",
        "for i in range(-100 , 100):\n",
        "    if i % 12 == 0:\n",
        "        print(\"Aqui\")\n",
        "    else:\n",
        "        print(i)"
      ],
      "metadata": {
        "id": "IMLQcksEKhva",
        "colab": {
          "base_uri": "https://localhost:8080/"
        },
        "outputId": "53092883-0ea5-4903-9f27-aa5cebcc9edb"
      },
      "execution_count": 12,
      "outputs": [
        {
          "output_type": "stream",
          "name": "stdout",
          "text": [
            "-100\n",
            "-99\n",
            "-98\n",
            "-97\n",
            "Aqui\n",
            "-95\n",
            "-94\n",
            "-93\n",
            "-92\n",
            "-91\n",
            "-90\n",
            "-89\n",
            "-88\n",
            "-87\n",
            "-86\n",
            "-85\n",
            "Aqui\n",
            "-83\n",
            "-82\n",
            "-81\n",
            "-80\n",
            "-79\n",
            "-78\n",
            "-77\n",
            "-76\n",
            "-75\n",
            "-74\n",
            "-73\n",
            "Aqui\n",
            "-71\n",
            "-70\n",
            "-69\n",
            "-68\n",
            "-67\n",
            "-66\n",
            "-65\n",
            "-64\n",
            "-63\n",
            "-62\n",
            "-61\n",
            "Aqui\n",
            "-59\n",
            "-58\n",
            "-57\n",
            "-56\n",
            "-55\n",
            "-54\n",
            "-53\n",
            "-52\n",
            "-51\n",
            "-50\n",
            "-49\n",
            "Aqui\n",
            "-47\n",
            "-46\n",
            "-45\n",
            "-44\n",
            "-43\n",
            "-42\n",
            "-41\n",
            "-40\n",
            "-39\n",
            "-38\n",
            "-37\n",
            "Aqui\n",
            "-35\n",
            "-34\n",
            "-33\n",
            "-32\n",
            "-31\n",
            "-30\n",
            "-29\n",
            "-28\n",
            "-27\n",
            "-26\n",
            "-25\n",
            "Aqui\n",
            "-23\n",
            "-22\n",
            "-21\n",
            "-20\n",
            "-19\n",
            "-18\n",
            "-17\n",
            "-16\n",
            "-15\n",
            "-14\n",
            "-13\n",
            "Aqui\n",
            "-11\n",
            "-10\n",
            "-9\n",
            "-8\n",
            "-7\n",
            "-6\n",
            "-5\n",
            "-4\n",
            "-3\n",
            "-2\n",
            "-1\n",
            "Aqui\n",
            "1\n",
            "2\n",
            "3\n",
            "4\n",
            "5\n",
            "6\n",
            "7\n",
            "8\n",
            "9\n",
            "10\n",
            "11\n",
            "Aqui\n",
            "13\n",
            "14\n",
            "15\n",
            "16\n",
            "17\n",
            "18\n",
            "19\n",
            "20\n",
            "21\n",
            "22\n",
            "23\n",
            "Aqui\n",
            "25\n",
            "26\n",
            "27\n",
            "28\n",
            "29\n",
            "30\n",
            "31\n",
            "32\n",
            "33\n",
            "34\n",
            "35\n",
            "Aqui\n",
            "37\n",
            "38\n",
            "39\n",
            "40\n",
            "41\n",
            "42\n",
            "43\n",
            "44\n",
            "45\n",
            "46\n",
            "47\n",
            "Aqui\n",
            "49\n",
            "50\n",
            "51\n",
            "52\n",
            "53\n",
            "54\n",
            "55\n",
            "56\n",
            "57\n",
            "58\n",
            "59\n",
            "Aqui\n",
            "61\n",
            "62\n",
            "63\n",
            "64\n",
            "65\n",
            "66\n",
            "67\n",
            "68\n",
            "69\n",
            "70\n",
            "71\n",
            "Aqui\n",
            "73\n",
            "74\n",
            "75\n",
            "76\n",
            "77\n",
            "78\n",
            "79\n",
            "80\n",
            "81\n",
            "82\n",
            "83\n",
            "Aqui\n",
            "85\n",
            "86\n",
            "87\n",
            "88\n",
            "89\n",
            "90\n",
            "91\n",
            "92\n",
            "93\n",
            "94\n",
            "95\n",
            "Aqui\n",
            "97\n",
            "98\n",
            "99\n"
          ]
        }
      ]
    },
    {
      "cell_type": "markdown",
      "source": [
        ""
      ],
      "metadata": {
        "id": "PN-uRhlaKlXs"
      }
    }
  ]
}
