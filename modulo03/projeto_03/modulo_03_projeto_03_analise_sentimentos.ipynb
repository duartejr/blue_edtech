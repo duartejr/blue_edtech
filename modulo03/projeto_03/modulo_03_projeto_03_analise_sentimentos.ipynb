{
  "nbformat": 4,
  "nbformat_minor": 0,
  "metadata": {
    "colab": {
      "name": "modulo_03_projeto_03_analise_sentimentos.ipynb",
      "provenance": [],
      "authorship_tag": "ABX9TyOAQmzrOmbngqFkn53h45Uu",
      "include_colab_link": true
    },
    "kernelspec": {
      "name": "python3",
      "display_name": "Python 3"
    },
    "language_info": {
      "name": "python"
    }
  },
  "cells": [
    {
      "cell_type": "markdown",
      "metadata": {
        "id": "view-in-github",
        "colab_type": "text"
      },
      "source": [
        "<a href=\"https://colab.research.google.com/github/duartejr/data_science_blue/blob/master/modulo03/projeto_03/modulo_03_projeto_03_analise_sentimentos.ipynb\" target=\"_parent\"><img src=\"https://colab.research.google.com/assets/colab-badge.svg\" alt=\"Open In Colab\"/></a>"
      ]
    },
    {
      "cell_type": "markdown",
      "source": [
        "# Projeto 3 - Análise de sentimento sobre o mercado financeiro\n"
      ],
      "metadata": {
        "id": "xY--Zy9JTrt7"
      }
    },
    {
      "cell_type": "markdown",
      "source": [
        "## Financial Sentiment Analysis\n",
        "Este conjunto de dados reúne diversos textos sobre o mercado financeiro e categoriza cada texto em positivo, negativo e neutro.\n",
        "\n",
        "## Sobre este projeto\n",
        "Os principais pontos que serão avaliados:\n",
        "* Extração de dados\n",
        "* Manipulação de dados e criação de gráficos simples com o Pandas\n",
        "* Criar um modelo de predição\n",
        "* Apresentação dos resultados\n",
        "\n",
        "## Preparação do ambiente\n",
        "* Para este projeto, acessem o link do dataset e logo abaixo cliquem em \"Download\". Caso você não tenha uma conta no Kaggle, crie uma e retorne para esse ponto para realizar o download. Descompacte o arquivo.\n",
        "* Este conjunto de dados está em inglês, use o Spacy e os demais dados auxiliares em inglês.\n",
        "* Caso demore demais para executar ou que ocorra estouro de memória, use somente 40% dos dados."
      ],
      "metadata": {
        "id": "yFYbpjUIT1yf"
      }
    },
    {
      "cell_type": "markdown",
      "source": [
        "## Exercícios"
      ],
      "metadata": {
        "id": "_i1lwHibUGdJ"
      }
    },
    {
      "cell_type": "markdown",
      "source": [
        "### 1.\n",
        "Construa as funções e a pipeline, separe os dados em treino e teste, execute a pipeline para classificar em positivo, negativo e neutro. Quais foram os valores de acurácia, precisão e sensitividade deste modelo? (3.0 pontos)"
      ],
      "metadata": {
        "id": "blfK4oXsUJ35"
      }
    },
    {
      "cell_type": "markdown",
      "source": [
        "Como sempre a primeira parte do processo consiste em análisar a consistência dos dados. Primeiramente serão importadas todas as bibliotecas e pacotes necessários e a leitura dos dados."
      ],
      "metadata": {
        "id": "iIoN6OzerV60"
      }
    },
    {
      "cell_type": "code",
      "source": [
        "import pandas as pd\n",
        "dados = pd.read_csv('data.csv')  # Leitura dos dados"
      ],
      "metadata": {
        "id": "-90TKMTZb_Wc"
      },
      "execution_count": 277,
      "outputs": []
    },
    {
      "cell_type": "markdown",
      "source": [
        "O próximo passo consiste em verificar se não há valores repetidos no dataset."
      ],
      "metadata": {
        "id": "I_cDalp2riA8"
      }
    },
    {
      "cell_type": "markdown",
      "source": [
        "Verificação do tamanho do dataset"
      ],
      "metadata": {
        "id": "sYInttnirxrQ"
      }
    },
    {
      "cell_type": "code",
      "source": [
        "dados.shape"
      ],
      "metadata": {
        "colab": {
          "base_uri": "https://localhost:8080/"
        },
        "id": "7cJE-cDmo_n-",
        "outputId": "74d9408c-3d60-408e-ef02-8fa8d943b733"
      },
      "execution_count": 278,
      "outputs": [
        {
          "output_type": "execute_result",
          "data": {
            "text/plain": [
              "(5842, 2)"
            ]
          },
          "metadata": {},
          "execution_count": 278
        }
      ]
    },
    {
      "cell_type": "markdown",
      "source": [
        "Com o comando `drop_duplicates` podemos verificar se há valores repetidos no dataset. Caso a quantidade de resgistros após a aplicação do método seja diferente da original significa que há valores repetidos no dataset. Como critério de seleção será utilizada apenas a coluna `Sentece` pois desejo verificar se há frases repetidas no dataset. Isto é feito passando o nome da coluna como argumento do parâmetro `subset`. O parâmetro `keep = False` realiza a remoção de todos os registros repetidos, pois, caso exista frases repetidas e com classificações de sentimentos diferentes não terei, neste momento, como verificar qual a classificação mais adequada para cada frase."
      ],
      "metadata": {
        "id": "qXBNxWC_r3Ll"
      }
    },
    {
      "cell_type": "code",
      "source": [
        "dados.drop_duplicates(subset='Sentence', keep=False).shape"
      ],
      "metadata": {
        "colab": {
          "base_uri": "https://localhost:8080/"
        },
        "id": "uD-Qh9feo9-1",
        "outputId": "b3bc133f-b9cd-48ab-8c8d-d8a1be551fad"
      },
      "execution_count": 279,
      "outputs": [
        {
          "output_type": "execute_result",
          "data": {
            "text/plain": [
              "(4802, 2)"
            ]
          },
          "metadata": {},
          "execution_count": 279
        }
      ]
    },
    {
      "cell_type": "markdown",
      "source": [
        "Como visto o número de linhas após aplicar o `drop_duplicates` é menor que no conjunto original, ou seja, existem frases repetidas no dataset. No próximo passo torno esta remoção permanente."
      ],
      "metadata": {
        "id": "c24721UjsyxC"
      }
    },
    {
      "cell_type": "code",
      "source": [
        "dados = dados.drop_duplicates(subset='Sentence', keep=False)\n",
        "dados.shape"
      ],
      "metadata": {
        "colab": {
          "base_uri": "https://localhost:8080/"
        },
        "id": "uPyXwco4opJa",
        "outputId": "65fcfd83-e061-440e-e24a-397ec6b14a49"
      },
      "execution_count": 280,
      "outputs": [
        {
          "output_type": "execute_result",
          "data": {
            "text/plain": [
              "(4802, 2)"
            ]
          },
          "metadata": {},
          "execution_count": 280
        }
      ]
    },
    {
      "cell_type": "markdown",
      "source": [
        "Em sequência irei verificar se há desbalanceamento entre as classes."
      ],
      "metadata": {
        "id": "CJP19mREtFZj"
      }
    },
    {
      "cell_type": "code",
      "source": [
        "dados.Sentiment.value_counts()"
      ],
      "metadata": {
        "colab": {
          "base_uri": "https://localhost:8080/"
        },
        "id": "uqSjzGoapfux",
        "outputId": "32d2ff87-969d-43c5-8cc2-42dd0cf427f9"
      },
      "execution_count": 281,
      "outputs": [
        {
          "output_type": "execute_result",
          "data": {
            "text/plain": [
              "neutral     2604\n",
              "positive    1852\n",
              "negative     346\n",
              "Name: Sentiment, dtype: int64"
            ]
          },
          "metadata": {},
          "execution_count": 281
        }
      ]
    },
    {
      "cell_type": "markdown",
      "source": [
        "O passo anterior mostra que a classe de argumentos neutros (`neutral`) têm maior frequência que as demais e a de argumentos negativos (`negative`) é a de menor frequência. Como o desbalanceamento pode acarretar na tendência do modelo gerar mais respostas para uma única classe será feito o balanceamento das mesmas. O balanceamento será feito selecionando 346 amostras aleatórias das classes `neutral` e `positive`, assim todas as classes terão a mesma frequência."
      ],
      "metadata": {
        "id": "tau1eyhmtM4r"
      }
    },
    {
      "cell_type": "code",
      "source": [
        "neutros = dados.query('Sentiment == \"neutral\"').sample(346)     # Seleção de 346 amostras aleatórias da classe neutral\n",
        "positive = dados.query('Sentiment == \"positive\"').sample(346)   # Seleção de 346 amostras aleatórias da classe positive\n",
        "negative = dados.query('Sentiment == \"negative\"')               # Seleção de todas as amostras da classe negative\n",
        "\n",
        "dados2 = pd.concat([neutros, positive, negative])               # Concatenação de todas as amostras em um único dataframe\n",
        "dados2 = dados2.sample(frac=1).reset_index()                    # Embaralhamento das amostras\n",
        "dados2.Sentiment.value_counts()\n"
      ],
      "metadata": {
        "colab": {
          "base_uri": "https://localhost:8080/"
        },
        "id": "I8giyerSpvKm",
        "outputId": "b4d24e5a-cf3c-4175-a908-1eb3dc6607f1"
      },
      "execution_count": 282,
      "outputs": [
        {
          "output_type": "execute_result",
          "data": {
            "text/plain": [
              "neutral     346\n",
              "negative    346\n",
              "positive    346\n",
              "Name: Sentiment, dtype: int64"
            ]
          },
          "metadata": {},
          "execution_count": 282
        }
      ]
    },
    {
      "cell_type": "markdown",
      "source": [
        "Após o tratamento dos dados podemos então iniciar a construção do modelo de classificação de sentimentos. Nas célula a seguir são definidas todas as funções e métodos para a construção do modelo."
      ],
      "metadata": {
        "id": "k5ysEUx6v3HY"
      }
    },
    {
      "cell_type": "code",
      "source": [
        "import spacy\n",
        "from sklearn.feature_extraction.text import CountVectorizer\n",
        "from sklearn.metrics import accuracy_score, precision_score, recall_score\n",
        "from sklearn.base import TransformerMixin \n",
        "from sklearn.pipeline import Pipeline\n",
        "from sklearn.ensemble import GradientBoostingClassifier\n",
        "\n",
        "nlp = spacy.load('en')\n",
        "\n",
        "# Criamos uma classe para gerenciar X e y\n",
        "class predictors(TransformerMixin):\n",
        "    def transform(self, X, **transform_params):\n",
        "        return [clean_text(text) for text in X]\n",
        "    def fit(self, X, y=None, **fit_params):\n",
        "        return self\n",
        "    def get_params(self, deep=True):\n",
        "        return {}\n",
        "\n",
        "# Esta funcao remove espacos em branco no inicio e\n",
        "# no fim do texto e converte todo o texto em letras\n",
        "# minusculas\n",
        "def clean_text(texto):     \n",
        "    return texto.strip().lower()\n",
        "\n",
        "# Esta funcao remove todas as stopwords e pontuacoes\n",
        "def tokenizer(texto):\n",
        "    doc = nlp(texto)\n",
        "    tokens = [token for token in doc if ((not token.is_stop) & (not token.is_punct))]\n",
        "    tokens = [token.lemma_.lower().strip() for token in tokens]\n",
        "    return tokens\n",
        "\n",
        "# Criamos um objeto CountVectorizer para vetorizar cada texto\n",
        "vectorizer = CountVectorizer(tokenizer = tokenizer, ngram_range=(1,1)) \n",
        "\n",
        "# Criamos um modelo Gradient Boosting o valores dos hiper-parâmetros foram definidos após alguns testes\n",
        "classifier = GradientBoostingClassifier(min_samples_leaf=8, max_depth=7, random_state=101)\n",
        "\n",
        "# Construindo uma pipeline\n",
        "pipe = Pipeline([(\"cleaner\", predictors()),\n",
        "                 ('vectorizer', vectorizer),\n",
        "                 ('classifier', classifier)])"
      ],
      "metadata": {
        "id": "HR_wpnmJTf4N"
      },
      "execution_count": 283,
      "outputs": []
    },
    {
      "cell_type": "markdown",
      "source": [
        "Feita a definição do modelo os próximos passos são: separar as variáveis dependentes e independentes, separar os conjuntos de treino e teste, treinar e avaliar o modelo."
      ],
      "metadata": {
        "id": "ZuRyWVcjwXOW"
      }
    },
    {
      "cell_type": "code",
      "source": [
        "from sklearn.model_selection import train_test_split\n",
        "\n",
        "# Separando em X e y\n",
        "X = dados2.Sentence\n",
        "y = dados2.Sentiment\n",
        "\n",
        "X_train, X_test, y_train, y_test = train_test_split(X, y, test_size=0.2, random_state=10)\n",
        "pipe.fit(X_train, y_train)\n",
        "\n",
        "y_pred = pipe.predict(X_test)\n",
        "\n",
        "print('Acurácia = ', round(accuracy_score(y_test, y_pred), 3))\n",
        "print('Precisão = ', round(precision_score(y_test, y_pred, average='macro'), 3))\n",
        "print('Recall = ', round(recall_score(y_test, y_pred, average='macro'), 3))"
      ],
      "metadata": {
        "colab": {
          "base_uri": "https://localhost:8080/"
        },
        "id": "ZMqJk-IvUZzD",
        "outputId": "c9afae6f-28a4-406e-96df-8c39d953af7b"
      },
      "execution_count": 284,
      "outputs": [
        {
          "output_type": "stream",
          "name": "stdout",
          "text": [
            "Acurácia =  0.678\n",
            "Precisão =  0.705\n",
            "Recall =  0.685\n"
          ]
        }
      ]
    },
    {
      "cell_type": "markdown",
      "source": [
        "### 2.\n",
        "Use o seu modelo para classificar os seguintes textos extraídos do site Financial Times. Faça uma tabela com o valor esperado e o valor obtido, e responda: houve divergência entre o esperado e o obtido? O que poderia ser feito para corrigir? (1.0 ponto)\n",
        "\n",
        "a. Central banks’ rate rises, geopolitical risk and slowing growth trigger investors’ stampede for safety. resultado esperado: [negativo]</br>\n",
        "b. China opens up bond market in bid to woo foreign investors. resultado esperado: [neutro]</br>\n",
        "c. HM Revenue & Customs says residents had £850bn in accounts overseas but it does not estimate if tax paid on this. resultado esperado: [negativo]</br>\n",
        "d. Japan’s horrifying crop of data falsification is also encouraging. The scandals have emerged from a distinct new phase in the evolution of the country’s shareholder capitalism. resultado esperado: [negativo]</br>\n",
        "e. Despite internal problems, the group continues to exert a tight grip on the US’s gun control debate. resultado esperado: [neutro]</br>"
      ],
      "metadata": {
        "id": "Zd0od8rpWV_N"
      }
    },
    {
      "cell_type": "code",
      "source": [
        "amostras = [\"Central banks’ rate rises, geopolitical risk and slowing growth trigger investors’ stampede for safety.\",\n",
        "            \"China opens up bond market in bid to woo foreign investors.\",\n",
        "            \"M Revenue & Customs says residents had £850bn in accounts overseas but it does not estimate if tax paid on this.\",\n",
        "            \"Japan’s horrifying crop of data falsification is also encouraging. The scandals have emerged from a distinct new phase in the evolution of the country’s shareholder capitalism.\",\n",
        "            \"Despite internal problems, the group continues to exert a tight grip on the US’s gun control debate.\"]\n",
        "\n",
        "pred = pipe.predict(amostras)\n",
        "pred"
      ],
      "metadata": {
        "colab": {
          "base_uri": "https://localhost:8080/"
        },
        "id": "rYOJ02bYWSlw",
        "outputId": "40f5786a-2eb7-4cde-8f97-3bbc246ccbed"
      },
      "execution_count": 285,
      "outputs": [
        {
          "output_type": "execute_result",
          "data": {
            "text/plain": [
              "array(['positive', 'neutral', 'neutral', 'neutral', 'neutral'],\n",
              "      dtype=object)"
            ]
          },
          "metadata": {},
          "execution_count": 285
        }
      ]
    },
    {
      "cell_type": "markdown",
      "source": [
        "Aparentemente o modelo tende a classificar mais frases como neutras. Mas, como a amostra é muito pequena esta afirmativa é inconclusiva."
      ],
      "metadata": {
        "id": "qhg7cmrsGxpt"
      }
    },
    {
      "cell_type": "markdown",
      "source": [
        "### 3.\n",
        "Faça uma análise exploratória, onde identifique as três empresas mais citadas e quantifique os níveis de positividade, negatividade e neutralidade dos textos sobre estas empresas. (3.0 pontos)"
      ],
      "metadata": {
        "id": "Q5j80t68YGNw"
      }
    },
    {
      "cell_type": "markdown",
      "source": [
        "a. Extraia de todos os textos as entidades, há quantas entidades? (0.6 pontos) "
      ],
      "metadata": {
        "id": "onsgtuRPYRLM"
      }
    },
    {
      "cell_type": "markdown",
      "source": [
        "Foi verificado em passos antetiores, não mostrados aqui, que o Spacy classifica erroneamente as labels ['oyj', 'eur'] como empresas. Para evitar esta contagemm erronea optei por ignorar a ocorrência delas."
      ],
      "metadata": {
        "id": "j_oPzBUW8WEm"
      }
    },
    {
      "cell_type": "code",
      "source": [
        "entidades = []\n",
        "\n",
        "for i in dados.index:\n",
        "    doc = nlp(dados.loc[i, 'Sentence'].lower())\n",
        "    for ent in doc.ents:\n",
        "        if ent.text not in ['oyj', 'eur']:\n",
        "            entidades.append([ent.text, ent.label_, dados.loc[i, 'Sentiment']])\n",
        "\n",
        "entidades = pd.DataFrame(entidades, columns=['entidade', 'label', 'sentimento'])"
      ],
      "metadata": {
        "id": "iXLF89uvX5P5"
      },
      "execution_count": 286,
      "outputs": []
    },
    {
      "cell_type": "code",
      "source": [
        "print('Total de entidades encontradas = ', len(entidades.groupby('entidade')))"
      ],
      "metadata": {
        "colab": {
          "base_uri": "https://localhost:8080/"
        },
        "id": "o_3-jmJg2Ejm",
        "outputId": "9f1d01b3-611b-47cb-d769-1f37ee339fc4"
      },
      "execution_count": 287,
      "outputs": [
        {
          "output_type": "stream",
          "name": "stdout",
          "text": [
            "Total de entidades encontradas =  5726\n"
          ]
        }
      ]
    },
    {
      "cell_type": "markdown",
      "source": [
        "b. Quantas entidades são empresas? (0.6 pontos) "
      ],
      "metadata": {
        "id": "Neo1CWYmYXAP"
      }
    },
    {
      "cell_type": "code",
      "source": [
        "n_empresas = len(entidades.query('label == \"ORG\"')['entidade'].drop_duplicates())\n",
        "print('Total de empresas reconhecidas: ', n_empresas)"
      ],
      "metadata": {
        "colab": {
          "base_uri": "https://localhost:8080/"
        },
        "id": "dAlqZfV3YZNr",
        "outputId": "22003ee6-d019-44e3-9417-d7979e2b766e"
      },
      "execution_count": 288,
      "outputs": [
        {
          "output_type": "stream",
          "name": "stdout",
          "text": [
            "Total de empresas reconhecidas:  1262\n"
          ]
        }
      ]
    },
    {
      "cell_type": "markdown",
      "source": [
        "c. Quais são as três empresas mais citadas? (0.6 pontos)"
      ],
      "metadata": {
        "id": "NsS9hJ6aYZxj"
      }
    },
    {
      "cell_type": "code",
      "source": [
        "entidades.query('label == \"ORG\"')['entidade'].value_counts().sort_values(ascending=False)[:3]"
      ],
      "metadata": {
        "colab": {
          "base_uri": "https://localhost:8080/"
        },
        "id": "opAuuiksYbv3",
        "outputId": "03e6f2c6-a8f3-475c-967b-e5e2495dea01"
      },
      "execution_count": 289,
      "outputs": [
        {
          "output_type": "execute_result",
          "data": {
            "text/plain": [
              "nokia     47\n",
              "tesco     29\n",
              "ruukki    25\n",
              "Name: entidade, dtype: int64"
            ]
          },
          "metadata": {},
          "execution_count": 289
        }
      ]
    },
    {
      "cell_type": "markdown",
      "source": [
        "d. Faça uma tabela onde demonstre as três empresas mais citadas e o total de textos positivos, negativos e neutros de cada uma. (1.2 pontos)"
      ],
      "metadata": {
        "id": "t0g0CW2vYfkg"
      }
    },
    {
      "cell_type": "code",
      "source": [
        "top3_empresas = entidades.query('label == \"ORG\" and entidade in [\"nokia\", \"tesco\", \"ruukki\"]')\n",
        "pd.crosstab(top3_empresas.entidade, top3_empresas.sentimento)"
      ],
      "metadata": {
        "colab": {
          "base_uri": "https://localhost:8080/",
          "height": 175
        },
        "id": "9F7g5yxzYoBT",
        "outputId": "fd6124aa-45ad-4edc-c8f0-4966d3226beb"
      },
      "execution_count": 290,
      "outputs": [
        {
          "output_type": "execute_result",
          "data": {
            "text/plain": [
              "sentimento  negative  neutral  positive\n",
              "entidade                               \n",
              "nokia              0       31        16\n",
              "ruukki             0       11        14\n",
              "tesco             11        3        15"
            ],
            "text/html": [
              "\n",
              "  <div id=\"df-967db650-7201-4a4c-a3e1-4528f4b37a38\">\n",
              "    <div class=\"colab-df-container\">\n",
              "      <div>\n",
              "<style scoped>\n",
              "    .dataframe tbody tr th:only-of-type {\n",
              "        vertical-align: middle;\n",
              "    }\n",
              "\n",
              "    .dataframe tbody tr th {\n",
              "        vertical-align: top;\n",
              "    }\n",
              "\n",
              "    .dataframe thead th {\n",
              "        text-align: right;\n",
              "    }\n",
              "</style>\n",
              "<table border=\"1\" class=\"dataframe\">\n",
              "  <thead>\n",
              "    <tr style=\"text-align: right;\">\n",
              "      <th>sentimento</th>\n",
              "      <th>negative</th>\n",
              "      <th>neutral</th>\n",
              "      <th>positive</th>\n",
              "    </tr>\n",
              "    <tr>\n",
              "      <th>entidade</th>\n",
              "      <th></th>\n",
              "      <th></th>\n",
              "      <th></th>\n",
              "    </tr>\n",
              "  </thead>\n",
              "  <tbody>\n",
              "    <tr>\n",
              "      <th>nokia</th>\n",
              "      <td>0</td>\n",
              "      <td>31</td>\n",
              "      <td>16</td>\n",
              "    </tr>\n",
              "    <tr>\n",
              "      <th>ruukki</th>\n",
              "      <td>0</td>\n",
              "      <td>11</td>\n",
              "      <td>14</td>\n",
              "    </tr>\n",
              "    <tr>\n",
              "      <th>tesco</th>\n",
              "      <td>11</td>\n",
              "      <td>3</td>\n",
              "      <td>15</td>\n",
              "    </tr>\n",
              "  </tbody>\n",
              "</table>\n",
              "</div>\n",
              "      <button class=\"colab-df-convert\" onclick=\"convertToInteractive('df-967db650-7201-4a4c-a3e1-4528f4b37a38')\"\n",
              "              title=\"Convert this dataframe to an interactive table.\"\n",
              "              style=\"display:none;\">\n",
              "        \n",
              "  <svg xmlns=\"http://www.w3.org/2000/svg\" height=\"24px\"viewBox=\"0 0 24 24\"\n",
              "       width=\"24px\">\n",
              "    <path d=\"M0 0h24v24H0V0z\" fill=\"none\"/>\n",
              "    <path d=\"M18.56 5.44l.94 2.06.94-2.06 2.06-.94-2.06-.94-.94-2.06-.94 2.06-2.06.94zm-11 1L8.5 8.5l.94-2.06 2.06-.94-2.06-.94L8.5 2.5l-.94 2.06-2.06.94zm10 10l.94 2.06.94-2.06 2.06-.94-2.06-.94-.94-2.06-.94 2.06-2.06.94z\"/><path d=\"M17.41 7.96l-1.37-1.37c-.4-.4-.92-.59-1.43-.59-.52 0-1.04.2-1.43.59L10.3 9.45l-7.72 7.72c-.78.78-.78 2.05 0 2.83L4 21.41c.39.39.9.59 1.41.59.51 0 1.02-.2 1.41-.59l7.78-7.78 2.81-2.81c.8-.78.8-2.07 0-2.86zM5.41 20L4 18.59l7.72-7.72 1.47 1.35L5.41 20z\"/>\n",
              "  </svg>\n",
              "      </button>\n",
              "      \n",
              "  <style>\n",
              "    .colab-df-container {\n",
              "      display:flex;\n",
              "      flex-wrap:wrap;\n",
              "      gap: 12px;\n",
              "    }\n",
              "\n",
              "    .colab-df-convert {\n",
              "      background-color: #E8F0FE;\n",
              "      border: none;\n",
              "      border-radius: 50%;\n",
              "      cursor: pointer;\n",
              "      display: none;\n",
              "      fill: #1967D2;\n",
              "      height: 32px;\n",
              "      padding: 0 0 0 0;\n",
              "      width: 32px;\n",
              "    }\n",
              "\n",
              "    .colab-df-convert:hover {\n",
              "      background-color: #E2EBFA;\n",
              "      box-shadow: 0px 1px 2px rgba(60, 64, 67, 0.3), 0px 1px 3px 1px rgba(60, 64, 67, 0.15);\n",
              "      fill: #174EA6;\n",
              "    }\n",
              "\n",
              "    [theme=dark] .colab-df-convert {\n",
              "      background-color: #3B4455;\n",
              "      fill: #D2E3FC;\n",
              "    }\n",
              "\n",
              "    [theme=dark] .colab-df-convert:hover {\n",
              "      background-color: #434B5C;\n",
              "      box-shadow: 0px 1px 3px 1px rgba(0, 0, 0, 0.15);\n",
              "      filter: drop-shadow(0px 1px 2px rgba(0, 0, 0, 0.3));\n",
              "      fill: #FFFFFF;\n",
              "    }\n",
              "  </style>\n",
              "\n",
              "      <script>\n",
              "        const buttonEl =\n",
              "          document.querySelector('#df-967db650-7201-4a4c-a3e1-4528f4b37a38 button.colab-df-convert');\n",
              "        buttonEl.style.display =\n",
              "          google.colab.kernel.accessAllowed ? 'block' : 'none';\n",
              "\n",
              "        async function convertToInteractive(key) {\n",
              "          const element = document.querySelector('#df-967db650-7201-4a4c-a3e1-4528f4b37a38');\n",
              "          const dataTable =\n",
              "            await google.colab.kernel.invokeFunction('convertToInteractive',\n",
              "                                                     [key], {});\n",
              "          if (!dataTable) return;\n",
              "\n",
              "          const docLinkHtml = 'Like what you see? Visit the ' +\n",
              "            '<a target=\"_blank\" href=https://colab.research.google.com/notebooks/data_table.ipynb>data table notebook</a>'\n",
              "            + ' to learn more about interactive tables.';\n",
              "          element.innerHTML = '';\n",
              "          dataTable['output_type'] = 'display_data';\n",
              "          await google.colab.output.renderOutput(dataTable, element);\n",
              "          const docLink = document.createElement('div');\n",
              "          docLink.innerHTML = docLinkHtml;\n",
              "          element.appendChild(docLink);\n",
              "        }\n",
              "      </script>\n",
              "    </div>\n",
              "  </div>\n",
              "  "
            ]
          },
          "metadata": {},
          "execution_count": 290
        }
      ]
    },
    {
      "cell_type": "markdown",
      "source": [
        "### 4.\n",
        "Faça gráficos a partir da tabela obtida acima. Descreva cada gráfico de forma que estivesse apresentando à diretoria dessas três empresas. (3.0 pontos)"
      ],
      "metadata": {
        "id": "_05aHM-pYf4A"
      }
    },
    {
      "cell_type": "code",
      "source": [
        "import seaborn as sns\n",
        "import matplotlib.pyplot as plt\n",
        "\n",
        "fig, ax = plt.subplots(1, 1, figsize=(8, 6))\n",
        "sns.countplot(data=top3_empresas, x='entidade', ax=ax, color='#3359ec')\n",
        "ax.set_xlabel('')\n",
        "ax.set_ylabel('')\n",
        "ax.set_xticklabels(['Tesco', 'Nokia', 'Ruukki'], fontsize=12)\n",
        "ax.get_yaxis().set_visible(False)\n",
        "ax.set_title('Número de ocorrências das três empresas mais citadas', fontsize=16)\n",
        "\n",
        "for p in ax.patches:\n",
        "    txt = str(p.get_height())\n",
        "    txt_x = p.get_x() + .35\n",
        "    txt_y = p.get_height() + 1\n",
        "    ax.text(txt_x, txt_y, txt, fontsize=14)\n",
        "\n",
        "ax.spines['top'].set_visible(False)\n",
        "ax.spines['right'].set_visible(False)\n",
        "ax.spines['left'].set_visible(False)"
      ],
      "metadata": {
        "id": "QmIu8RzDYjnD",
        "colab": {
          "base_uri": "https://localhost:8080/",
          "height": 396
        },
        "outputId": "e853795f-8ca2-4449-af7a-be4342ae60f9"
      },
      "execution_count": 291,
      "outputs": [
        {
          "output_type": "display_data",
          "data": {
            "text/plain": [
              "<Figure size 576x432 with 1 Axes>"
            ],
            "image/png": "[encoded data removed]"
          },
          "metadata": {
            "needs_background": "light"
          }
        }
      ]
    },
    {
      "cell_type": "markdown",
      "source": [
        "Dentro do dataset fornecido a empresa mais citada é a Nokia, isto pode ser um indicativo da popularidade da empresa. Tesco e Ruukki são menos citadas. Isto acaba sendo um reflexo do ramo de atuação de cada empresa. Como a Nokia é uma empresa maior com atuação global e com várias campanhas de marketing, acaba tendo mais clientes e consequenteme mais investidores e aparições na base de dados. Tesco é uma multinacional varejista britânica, de pequenas lojas a hipermercados, sediada no Reino Unido. E a Rautaruukki (Ruukki) é uma empresa finlândesa que fabrica produtos de derivados do aço, a empresa desenvolve e fabrica tubos, tubos de linha e produtos de construção em aço. São portanto empresas menores que a Nokia e por causa disto atraem a atenção de menos investidores."
      ],
      "metadata": {
        "id": "fa9JGkjtHCOb"
      }
    },
    {
      "cell_type": "markdown",
      "source": [
        "Executando-se a célula a seguir têm-se a distribuição dos sentimentos atribuidos aos comentários de cada uma das empresas que estão no TOP 3."
      ],
      "metadata": {
        "id": "_1QfinQzIHQx"
      }
    },
    {
      "cell_type": "code",
      "source": [
        "import seaborn as sns\n",
        "import matplotlib.pyplot as plt\n",
        "\n",
        "fig, ax = plt.subplots(1, 1, figsize=(8, 6))\n",
        "sns.countplot(\n",
        "    data=top3_empresas, \n",
        "    y='entidade', \n",
        "    hue='sentimento', \n",
        "    ax=ax, \n",
        "    palette=['#3359ec', '#ff59ec', '#ffe921']\n",
        ")\n",
        "ax.set_xlabel('')\n",
        "ax.set_ylabel('')\n",
        "ax.set_yticklabels(['Tesco', 'Nokia', 'Ruukki'], fontsize=12)\n",
        "ax.get_xaxis().set_visible(False)\n",
        "ax.set_title('Classificação dos comentários recebidos das três empresas mais citadas', fontsize=16, y=1.1)\n",
        "\n",
        "for p in ax.patches:\n",
        "    txt = str(p.get_width())\n",
        "    txt_x = p.get_width() + .35\n",
        "    txt_y = p.get_y() + .15\n",
        "    ax.text(txt_x, txt_y, txt, fontsize=14)\n",
        "\n",
        "ax.spines['top'].set_visible(False)\n",
        "ax.spines['right'].set_visible(False)\n",
        "ax.spines['bottom'].set_visible(False)\n",
        "plt.legend(['Positivo', 'Negativo', 'Neutro'], title='Sentimentos', fontsize=12, title_fontsize=12)\n",
        "plt.show()"
      ],
      "metadata": {
        "colab": {
          "base_uri": "https://localhost:8080/",
          "height": 478
        },
        "id": "UHYqJorO_IJb",
        "outputId": "fe33167d-b8d4-42aa-9fbd-10d3eec68af9"
      },
      "execution_count": 294,
      "outputs": [
        {
          "output_type": "stream",
          "name": "stderr",
          "text": [
            "posx and posy should be finite values\n",
            "posx and posy should be finite values\n",
            "posx and posy should be finite values\n",
            "posx and posy should be finite values\n"
          ]
        },
        {
          "output_type": "display_data",
          "data": {
            "text/plain": [
              "<Figure size 576x432 with 1 Axes>"
            ],
            "image/png": "[encoded data removed]"
          },
          "metadata": {
            "needs_background": "light"
          }
        }
      ]
    },
    {
      "cell_type": "markdown",
      "source": [
        "A partir do gráfico acima podemos notar que, embora a Nokia seja a empresa que, em termos absolutos, têm a maior quantidade de comentários, seus investidores parecem não estar animados com o desempenho da mesma, já que a maioras dos comentários sobre a Nokia são classificados como neutros.\n",
        "\n",
        "Os investidores da Ruukki aparentam ser os mais satisfeitos com o desempenho da empresa pois, além da mesma não estar relacionada a comentários negativos a maioria de seus comentários recebidos são positivos.\n",
        "\n",
        "Por fim, a Tesco é a empresa de menor satisfação dos investidores. A empresa precisa tomar ações para recupear a credibilidade com seus investidores."
      ],
      "metadata": {
        "id": "lHiVNsjRISMP"
      }
    },
    {
      "cell_type": "code",
      "source": [
        ""
      ],
      "metadata": {
        "id": "mXzc82idIdLp"
      },
      "execution_count": 292,
      "outputs": []
    }
  ]
}